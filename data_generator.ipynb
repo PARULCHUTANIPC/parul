{
  "nbformat": 4,
  "nbformat_minor": 0,
  "metadata": {
    "colab": {
      "name": "data generator.ipynb",
      "provenance": [],
      "mount_file_id": "1TpgxXWkEJ-3HrZCC-hCLtO2DV2KM1iaR",
      "authorship_tag": "ABX9TyNQY1CEzwC9QCW2qsrGC0uj",
      "include_colab_link": true
    },
    "kernelspec": {
      "name": "python3",
      "display_name": "Python 3"
    }
  },
  "cells": [
    {
      "cell_type": "markdown",
      "metadata": {
        "id": "view-in-github",
        "colab_type": "text"
      },
      "source": [
        "<a href=\"https://colab.research.google.com/github/PARULCHUTANIPC/parul/blob/p1/data_generator.ipynb\" target=\"_parent\"><img src=\"https://colab.research.google.com/assets/colab-badge.svg\" alt=\"Open In Colab\"/></a>"
      ]
    },
    {
      "cell_type": "code",
      "metadata": {
        "id": "0U2bKy7uVtYd",
        "colab_type": "code",
        "colab": {
          "base_uri": "https://localhost:8080/",
          "height": 33
        },
        "outputId": "5661484c-0baf-4888-d5e3-85833acb818f"
      },
      "source": [
        "# https://blog.keras.io/building-powerful-image-classification-models-using-very-little-data.html\n",
        "from keras.preprocessing.image import ImageDataGenerator, load_img, img_to_array"
      ],
      "execution_count": 1,
      "outputs": [
        {
          "output_type": "stream",
          "text": [
            "Using TensorFlow backend.\n"
          ],
          "name": "stderr"
        }
      ]
    },
    {
      "cell_type": "code",
      "metadata": {
        "id": "eXYqq8a5XVsg",
        "colab_type": "code",
        "colab": {}
      },
      "source": [
        "datagen = ImageDataGenerator(\n",
        "        rotation_range=40,\n",
        "        width_shift_range=0.2,\n",
        "        height_shift_range=0.2,\n",
        "        rescale=1./255,\n",
        "        shear_range=0.2,\n",
        "        zoom_range=0.2,\n",
        "        horizontal_flip=True,\n",
        "        fill_mode='nearest')"
      ],
      "execution_count": 0,
      "outputs": []
    },
    {
      "cell_type": "code",
      "metadata": {
        "id": "59rn6WxhXkrY",
        "colab_type": "code",
        "colab": {}
      },
      "source": [
        "pic = load_img('/content/drive/My Drive/shivpushi.jpg')\n",
        "pic_array = img_to_array(pic)"
      ],
      "execution_count": 0,
      "outputs": []
    },
    {
      "cell_type": "code",
      "metadata": {
        "id": "kGeVWMwMXpvD",
        "colab_type": "code",
        "colab": {
          "base_uri": "https://localhost:8080/",
          "height": 33
        },
        "outputId": "cdfaa538-a3f4-42dc-a049-90a2c525d73e"
      },
      "source": [
        "pic_array.shape # Image dimension"
      ],
      "execution_count": 5,
      "outputs": [
        {
          "output_type": "execute_result",
          "data": {
            "text/plain": [
              "(1480, 720, 3)"
            ]
          },
          "metadata": {
            "tags": []
          },
          "execution_count": 5
        }
      ]
    },
    {
      "cell_type": "code",
      "metadata": {
        "id": "iaCdf1WiYDRJ",
        "colab_type": "code",
        "colab": {
          "base_uri": "https://localhost:8080/",
          "height": 33
        },
        "outputId": "5af93008-db52-421e-c72e-079425f5ffb9"
      },
      "source": [
        "pic_array = pic_array.reshape((1,) + pic_array.shape) # Converting into 4 dimension array\n",
        "pic_array.shape"
      ],
      "execution_count": 7,
      "outputs": [
        {
          "output_type": "execute_result",
          "data": {
            "text/plain": [
              "(1, 1480, 720, 3)"
            ]
          },
          "metadata": {
            "tags": []
          },
          "execution_count": 7
        }
      ]
    },
    {
      "cell_type": "markdown",
      "metadata": {
        "id": "redMkSidaLpL",
        "colab_type": "text"
      },
      "source": [
        "**Save the generated images back into drive, And i selected the forlder path, the destination to save the generated images**"
      ]
    },
    {
      "cell_type": "code",
      "metadata": {
        "id": "ezwaFA7FYDP1",
        "colab_type": "code",
        "colab": {}
      },
      "source": [
        "# Generate 10 images\n",
        "# batch_size: At a time, how many image should be created.\n",
        "count = 0\n",
        "for batch in datagen.flow(pic_array, batch_size=5,save_to_dir=\"/content/drive/My Drive/Parul \", save_prefix='shivpushi', save_format='jpeg'):\n",
        "    count += 1\n",
        "    if count > 10:\n",
        "        break"
      ],
      "execution_count": 0,
      "outputs": []
    },
    {
      "cell_type": "code",
      "metadata": {
        "id": "p7hHElFjYDMA",
        "colab_type": "code",
        "colab": {}
      },
      "source": [
        ""
      ],
      "execution_count": 0,
      "outputs": []
    },
    {
      "cell_type": "code",
      "metadata": {
        "id": "hyxtb8EaYDHV",
        "colab_type": "code",
        "colab": {}
      },
      "source": [
        ""
      ],
      "execution_count": 0,
      "outputs": []
    },
    {
      "cell_type": "code",
      "metadata": {
        "id": "Sfb-UlWIYDF3",
        "colab_type": "code",
        "colab": {}
      },
      "source": [
        ""
      ],
      "execution_count": 0,
      "outputs": []
    }
  ]
}