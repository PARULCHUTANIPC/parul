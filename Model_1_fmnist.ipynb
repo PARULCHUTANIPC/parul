{
  "nbformat": 4,
  "nbformat_minor": 0,
  "metadata": {
    "colab": {
      "name": "Model 1 fmnist.ipynb",
      "provenance": [],
      "mount_file_id": "1H0RRno1BFF_CZmqMORj3ntW-tl72uxZE",
      "authorship_tag": "ABX9TyOvpny7kXwHiouqq/KH+SvT",
      "include_colab_link": true
    },
    "kernelspec": {
      "name": "python3",
      "display_name": "Python 3"
    },
    "accelerator": "GPU"
  },
  "cells": [
    {
      "cell_type": "markdown",
      "metadata": {
        "id": "view-in-github",
        "colab_type": "text"
      },
      "source": [
        "<a href=\"https://colab.research.google.com/github/PARULCHUTANIPC/parul/blob/keras/Model_1_fmnist.ipynb\" target=\"_parent\"><img src=\"https://colab.research.google.com/assets/colab-badge.svg\" alt=\"Open In Colab\"/></a>"
      ]
    },
    {
      "cell_type": "code",
      "metadata": {
        "id": "JBlCCRhDxm9c",
        "colab_type": "code",
        "outputId": "ffeac383-0b40-4036-8a25-391e6e9ce326",
        "colab": {
          "base_uri": "https://localhost:8080/",
          "height": 34
        }
      },
      "source": [
        "'''\n",
        "import numpy as np\n",
        "import keras\n",
        "#from keras.models import Sequential\n",
        "#from keras.layers import Activation\n",
        "from tensorflow.keras import Sequential\n",
        "from tensorflow.keras.layers import Dense, Flatten,Convolution2D\n",
        "#from tf.keras.layers.core import Dense, Flatten\n",
        "from tensorflow. keras.optimizers import Adam\n",
        "from keras.metrics import categorical_crossentropy\n",
        "from keras.preprocessing.image import ImageDataGenerator\n",
        "from keras.layers.normalization import BatchNormalization\n",
        "from keras.layers.convolutional import Conv2D\n",
        "from sklearn.metrics import confusion_matrix\n",
        "import itertools\n",
        "import matplotlib.pyplot as plt\n",
        "%matplotlib inline\n",
        "'''\n",
        "import numpy as np\n",
        "import pandas as pd\n",
        "import matplotlib.pyplot as plt\n",
        "import tensorflow as tf\n",
        "from tensorflow.keras import datasets, layers, models\n",
        "print(tf.__version__)\n",
        "\n",
        "from tensorflow.keras import Sequential\n",
        "from tensorflow.keras.layers import Conv2D, MaxPool2D, Dense, Flatten, Dropout"
      ],
      "execution_count": 36,
      "outputs": [
        {
          "output_type": "stream",
          "text": [
            "2.2.0-rc2\n"
          ],
          "name": "stdout"
        }
      ]
    },
    {
      "cell_type": "code",
      "metadata": {
        "id": "Af8-v-k8HNM1",
        "colab_type": "code",
        "colab": {}
      },
      "source": [
        "fashion_mnist = tf.keras.datasets.fashion_mnist"
      ],
      "execution_count": 0,
      "outputs": []
    },
    {
      "cell_type": "code",
      "metadata": {
        "id": "u1FYdx9iytn4",
        "colab_type": "code",
        "colab": {}
      },
      "source": [
        "(train_images, train_labels), (test_images, test_labels) = fashion_mnist.load_data()"
      ],
      "execution_count": 0,
      "outputs": []
    },
    {
      "cell_type": "code",
      "metadata": {
        "id": "kKx8xxVZ1Ho-",
        "colab_type": "code",
        "outputId": "fc9c8782-c357-4346-b2cc-7f4a946e59f2",
        "colab": {
          "base_uri": "https://localhost:8080/",
          "height": 34
        }
      },
      "source": [
        "len(train_images),  len(train_labels), len(test_images), len(test_labels)"
      ],
      "execution_count": 15,
      "outputs": [
        {
          "output_type": "execute_result",
          "data": {
            "text/plain": [
              "(60000, 60000, 10000, 10000)"
            ]
          },
          "metadata": {
            "tags": []
          },
          "execution_count": 15
        }
      ]
    },
    {
      "cell_type": "code",
      "metadata": {
        "id": "OHM0tWNQMJKb",
        "colab_type": "code",
        "colab": {
          "base_uri": "https://localhost:8080/",
          "height": 34
        },
        "outputId": "a79bdc6b-14ba-4668-efff-d20321981245"
      },
      "source": [
        "train_images.shape, test_images.shape"
      ],
      "execution_count": 16,
      "outputs": [
        {
          "output_type": "execute_result",
          "data": {
            "text/plain": [
              "((60000, 28, 28), (10000, 28, 28))"
            ]
          },
          "metadata": {
            "tags": []
          },
          "execution_count": 16
        }
      ]
    },
    {
      "cell_type": "code",
      "metadata": {
        "id": "RcfAFr6vtw-D",
        "colab_type": "code",
        "colab": {}
      },
      "source": [
        "train_images = train_images/255\n",
        "test_images = test_images/255"
      ],
      "execution_count": 0,
      "outputs": []
    },
    {
      "cell_type": "code",
      "metadata": {
        "id": "bacLANrYtw6s",
        "colab_type": "code",
        "colab": {
          "base_uri": "https://localhost:8080/",
          "height": 606
        },
        "outputId": "a6bad799-caa7-421b-80de-834e3a423d49"
      },
      "source": [
        "class_names = ['T-shirt/top', 'Trouser', 'Pullover','Dress','Coat','Sandal','Shirt','Sneaker','Bag','Ankle boot']\n",
        "plt.figure(figsize=(10,10))\n",
        "for i in range(9):\n",
        "  plt.subplot(3,3,i+1)\n",
        "  plt.imshow(train_images[i])\n",
        "  plt.xlabel(class_names[train_labels[i]])\n"
      ],
      "execution_count": 18,
      "outputs": [
        {
          "output_type": "display_data",
          "data": {
            "image/png": "[encoded data removed]",
            "text/plain": [
              "<Figure size 720x720 with 9 Axes>"
            ]
          },
          "metadata": {
            "tags": []
          }
        }
      ]
    },
    {
      "cell_type": "code",
      "metadata": {
        "id": "XmBlo9Gvtw4W",
        "colab_type": "code",
        "colab": {
          "base_uri": "https://localhost:8080/",
          "height": 606
        },
        "outputId": "219f9e44-7644-43d0-d0d5-c4996373afcb"
      },
      "source": [
        "class_names = ['T-shirt/top', 'Trouser', 'Pullover','Dress','Coat','Sandal','Shirt','Sneaker','Bag','Ankle boot']\n",
        "plt.figure(figsize=(10,10))\n",
        "for i in range(9):\n",
        "  plt.subplot(3,3,i+1)\n",
        "  plt.imshow(train_images[i], cmap= 'gray')\n",
        "  plt.xlabel(class_names[train_labels[i]])\n"
      ],
      "execution_count": 19,
      "outputs": [
        {
          "output_type": "display_data",
          "data": {
            "image/png": "[encoded data removed]",
            "text/plain": [
              "<Figure size 720x720 with 9 Axes>"
            ]
          },
          "metadata": {
            "tags": []
          }
        }
      ]
    },
    {
      "cell_type": "code",
      "metadata": {
        "id": "JTEq1wkPtw05",
        "colab_type": "code",
        "colab": {}
      },
      "source": [
        "#train_images  = train_images.reshape(60000, 28*28)\n",
        "#test_images  = test_images.reshape(10000, 28*28)\n",
        "train_images = train_images.reshape(60000,28,28,1)\n",
        "test_images = test_images.reshape(10000, 28,28,1)"
      ],
      "execution_count": 0,
      "outputs": []
    },
    {
      "cell_type": "code",
      "metadata": {
        "id": "uj7rUh5PtwvU",
        "colab_type": "code",
        "colab": {
          "base_uri": "https://localhost:8080/",
          "height": 34
        },
        "outputId": "84268428-a8dd-4d81-ea6b-9be07b2ea28d"
      },
      "source": [
        "train_images.shape, test_images.shape"
      ],
      "execution_count": 21,
      "outputs": [
        {
          "output_type": "execute_result",
          "data": {
            "text/plain": [
              "((60000, 28, 28, 1), (10000, 28, 28, 1))"
            ]
          },
          "metadata": {
            "tags": []
          },
          "execution_count": 21
        }
      ]
    },
    {
      "cell_type": "code",
      "metadata": {
        "id": "TUtJOzmVEr_5",
        "colab_type": "code",
        "colab": {
          "base_uri": "https://localhost:8080/",
          "height": 69
        },
        "outputId": "7095cb8e-9e9b-4a79-bf6c-9fa6ea16e31d"
      },
      "source": [
        ""
      ],
      "execution_count": 48,
      "outputs": [
        {
          "output_type": "stream",
          "text": [
            "(48000, 28, 28, 1)\n",
            "(48000,)\n",
            "(12000, 28, 28, 1)\n"
          ],
          "name": "stdout"
        }
      ]
    },
    {
      "cell_type": "code",
      "metadata": {
        "id": "_UdrYFYiEr8M",
        "colab_type": "code",
        "colab": {}
      },
      "source": [
        ""
      ],
      "execution_count": 0,
      "outputs": []
    },
    {
      "cell_type": "code",
      "metadata": {
        "id": "EkVqmI2fEr4X",
        "colab_type": "code",
        "colab": {}
      },
      "source": [
        ""
      ],
      "execution_count": 0,
      "outputs": []
    },
    {
      "cell_type": "code",
      "metadata": {
        "id": "E9pGJNJHEHxb",
        "colab_type": "code",
        "colab": {}
      },
      "source": [
        "from sklearn.model_selection import train_test_split\n",
        "\n",
        "X_train, X_validate, y_train, y_validate = train_test_split(train_images, train_labels, test_size = 0.2, random_state = 12345)\n",
        "X_test = test_images"
      ],
      "execution_count": 0,
      "outputs": []
    },
    {
      "cell_type": "code",
      "metadata": {
        "id": "3cKNzRnbEHvB",
        "colab_type": "code",
        "colab": {
          "base_uri": "https://localhost:8080/",
          "height": 52
        },
        "outputId": "6bb59319-1399-42b7-cee1-a877c8b8a348"
      },
      "source": [
        "print(X_train.shape)\n",
        "print(y_train.shape)"
      ],
      "execution_count": 46,
      "outputs": [
        {
          "output_type": "stream",
          "text": [
            "(48000, 28, 28)\n",
            "(48000,)\n"
          ],
          "name": "stdout"
        }
      ]
    },
    {
      "cell_type": "code",
      "metadata": {
        "id": "GJt_6_7YEHr2",
        "colab_type": "code",
        "colab": {}
      },
      "source": [
        "# * unpack the tuple\n",
        "X_train = X_train.reshape(X_train.shape[0], *(28, 28, 1))\n",
        "X_test = X_test.reshape(X_test.shape[0], *(28, 28, 1))\n",
        "X_validate = X_validate.reshape(X_validate.shape[0], *(28, 28, 1))"
      ],
      "execution_count": 0,
      "outputs": []
    },
    {
      "cell_type": "code",
      "metadata": {
        "id": "r3fbPI2iEHov",
        "colab_type": "code",
        "colab": {
          "base_uri": "https://localhost:8080/",
          "height": 69
        },
        "outputId": "e2ddb861-49bd-4151-bfd2-929d46d43c75"
      },
      "source": [
        "print(X_train.shape)\n",
        "print(y_train.shape)\n",
        "print(X_validate.shape)"
      ],
      "execution_count": 56,
      "outputs": [
        {
          "output_type": "stream",
          "text": [
            "(48000, 28, 28, 1)\n",
            "(48000,)\n",
            "(12000, 28, 28, 1)\n"
          ],
          "name": "stdout"
        }
      ]
    },
    {
      "cell_type": "code",
      "metadata": {
        "id": "vo3UpJG4EHli",
        "colab_type": "code",
        "colab": {}
      },
      "source": [
        ""
      ],
      "execution_count": 0,
      "outputs": []
    },
    {
      "cell_type": "code",
      "metadata": {
        "id": "jYRFNP6yEHgw",
        "colab_type": "code",
        "colab": {}
      },
      "source": [
        ""
      ],
      "execution_count": 0,
      "outputs": []
    },
    {
      "cell_type": "code",
      "metadata": {
        "id": "Vb0ZquZVCKG8",
        "colab_type": "code",
        "colab": {}
      },
      "source": [
        "cnn_model = models.Sequential()\n",
        "\n",
        "# Try 32 fliters first then 64\n",
        "cnn_model.add(Conv2D(64, (3, 3), input_shape = (28,28,1), activation='relu'))\n",
        "cnn_model.add(layers.MaxPooling2D(pool_size = (2, 2)))\n",
        "\n",
        "cnn_model.add(Dropout(0.25))\n",
        "\n",
        "# cnn_model.add(Conv2D(32,3, 3, activation='relu'))\n",
        "# cnn_model.add(MaxPooling2D(pool_size = (2, 2)))\n",
        "\n",
        "cnn_model.add(Flatten())\n",
        "cnn_model.add(Dense(units = 32, activation = 'relu'))\n",
        "cnn_model.add(Dense(units = 10, activation = 'sigmoid'))"
      ],
      "execution_count": 0,
      "outputs": []
    },
    {
      "cell_type": "code",
      "metadata": {
        "id": "DDt362yhCboR",
        "colab_type": "code",
        "colab": {
          "base_uri": "https://localhost:8080/",
          "height": 364
        },
        "outputId": "07edf739-559a-41f0-9af3-7f35bad09e73"
      },
      "source": [
        "cnn_model.summary()"
      ],
      "execution_count": 58,
      "outputs": [
        {
          "output_type": "stream",
          "text": [
            "Model: \"sequential_5\"\n",
            "_________________________________________________________________\n",
            "Layer (type)                 Output Shape              Param #   \n",
            "=================================================================\n",
            "conv2d_7 (Conv2D)            (None, 26, 26, 64)        640       \n",
            "_________________________________________________________________\n",
            "max_pooling2d_4 (MaxPooling2 (None, 13, 13, 64)        0         \n",
            "_________________________________________________________________\n",
            "dropout_2 (Dropout)          (None, 13, 13, 64)        0         \n",
            "_________________________________________________________________\n",
            "flatten_3 (Flatten)          (None, 10816)             0         \n",
            "_________________________________________________________________\n",
            "dense_6 (Dense)              (None, 32)                346144    \n",
            "_________________________________________________________________\n",
            "dense_7 (Dense)              (None, 10)                330       \n",
            "=================================================================\n",
            "Total params: 347,114\n",
            "Trainable params: 347,114\n",
            "Non-trainable params: 0\n",
            "_________________________________________________________________\n"
          ],
          "name": "stdout"
        }
      ]
    },
    {
      "cell_type": "code",
      "metadata": {
        "id": "yTiTOJNuCgjP",
        "colab_type": "code",
        "colab": {}
      },
      "source": [
        "cnn_model.compile(loss ='sparse_categorical_crossentropy', optimizer='adam', metrics =['accuracy'])"
      ],
      "execution_count": 0,
      "outputs": []
    },
    {
      "cell_type": "code",
      "metadata": {
        "id": "Zq5p5esLF_Sb",
        "colab_type": "code",
        "colab": {
          "base_uri": "https://localhost:8080/",
          "height": 1000
        },
        "outputId": "41e4c3d0-44e5-4428-e142-1812bdb4c3ed"
      },
      "source": [
        "epochs = 70\n",
        "\n",
        "history = cnn_model.fit(X_train, y_train, batch_size = 100, epochs = epochs,\n",
        "                        verbose = 1, validation_data = (X_validate, y_validate))"
      ],
      "execution_count": 68,
      "outputs": [
        {
          "output_type": "stream",
          "text": [
            "Epoch 1/70\n",
            "480/480 [==============================] - 2s 4ms/step - loss: 0.3689 - accuracy: 0.8659 - val_loss: 0.4041 - val_accuracy: 0.8648\n",
            "Epoch 2/70\n",
            "480/480 [==============================] - 2s 4ms/step - loss: 0.3121 - accuracy: 0.8756 - val_loss: 0.4041 - val_accuracy: 0.8737\n",
            "Epoch 3/70\n",
            "480/480 [==============================] - 2s 4ms/step - loss: 0.2852 - accuracy: 0.8835 - val_loss: 0.3743 - val_accuracy: 0.8822\n",
            "Epoch 4/70\n",
            "480/480 [==============================] - 2s 4ms/step - loss: 0.2672 - accuracy: 0.8907 - val_loss: 0.3726 - val_accuracy: 0.8825\n",
            "Epoch 5/70\n",
            "480/480 [==============================] - 2s 4ms/step - loss: 0.2482 - accuracy: 0.8948 - val_loss: 0.3588 - val_accuracy: 0.8928\n",
            "Epoch 6/70\n",
            "480/480 [==============================] - 2s 4ms/step - loss: 0.2340 - accuracy: 0.8997 - val_loss: 0.3721 - val_accuracy: 0.8923\n",
            "Epoch 7/70\n",
            "480/480 [==============================] - 2s 4ms/step - loss: 0.2273 - accuracy: 0.9039 - val_loss: 0.3710 - val_accuracy: 0.8934\n",
            "Epoch 8/70\n",
            "480/480 [==============================] - 2s 4ms/step - loss: 0.2164 - accuracy: 0.9091 - val_loss: 0.3592 - val_accuracy: 0.8935\n",
            "Epoch 9/70\n",
            "480/480 [==============================] - 2s 4ms/step - loss: 0.2147 - accuracy: 0.9093 - val_loss: 0.3678 - val_accuracy: 0.9004\n",
            "Epoch 10/70\n",
            "480/480 [==============================] - 2s 4ms/step - loss: 0.2016 - accuracy: 0.9159 - val_loss: 0.3792 - val_accuracy: 0.8961\n",
            "Epoch 11/70\n",
            "480/480 [==============================] - 2s 4ms/step - loss: 0.1921 - accuracy: 0.9202 - val_loss: 0.3647 - val_accuracy: 0.9043\n",
            "Epoch 12/70\n",
            "480/480 [==============================] - 2s 4ms/step - loss: 0.1899 - accuracy: 0.9223 - val_loss: 0.3675 - val_accuracy: 0.9043\n",
            "Epoch 13/70\n",
            "480/480 [==============================] - 2s 4ms/step - loss: 0.1858 - accuracy: 0.9235 - val_loss: 0.3906 - val_accuracy: 0.9009\n",
            "Epoch 14/70\n",
            "480/480 [==============================] - 2s 4ms/step - loss: 0.1793 - accuracy: 0.9269 - val_loss: 0.3815 - val_accuracy: 0.9045\n",
            "Epoch 15/70\n",
            "480/480 [==============================] - 2s 4ms/step - loss: 0.1736 - accuracy: 0.9292 - val_loss: 0.3723 - val_accuracy: 0.9040\n",
            "Epoch 16/70\n",
            "480/480 [==============================] - 2s 4ms/step - loss: 0.1663 - accuracy: 0.9308 - val_loss: 0.3771 - val_accuracy: 0.9024\n",
            "Epoch 17/70\n",
            "480/480 [==============================] - 2s 4ms/step - loss: 0.1658 - accuracy: 0.9316 - val_loss: 0.3773 - val_accuracy: 0.9069\n",
            "Epoch 18/70\n",
            "480/480 [==============================] - 2s 4ms/step - loss: 0.1640 - accuracy: 0.9325 - val_loss: 0.3788 - val_accuracy: 0.9084\n",
            "Epoch 19/70\n",
            "480/480 [==============================] - 2s 4ms/step - loss: 0.1581 - accuracy: 0.9354 - val_loss: 0.3949 - val_accuracy: 0.9018\n",
            "Epoch 20/70\n",
            "480/480 [==============================] - 2s 4ms/step - loss: 0.1520 - accuracy: 0.9379 - val_loss: 0.3797 - val_accuracy: 0.9077\n",
            "Epoch 21/70\n",
            "480/480 [==============================] - 2s 4ms/step - loss: 0.1504 - accuracy: 0.9391 - val_loss: 0.4102 - val_accuracy: 0.9073\n",
            "Epoch 22/70\n",
            "480/480 [==============================] - 2s 4ms/step - loss: 0.1430 - accuracy: 0.9399 - val_loss: 0.3844 - val_accuracy: 0.9082\n",
            "Epoch 23/70\n",
            "480/480 [==============================] - 2s 4ms/step - loss: 0.1411 - accuracy: 0.9412 - val_loss: 0.4064 - val_accuracy: 0.9129\n",
            "Epoch 24/70\n",
            "480/480 [==============================] - 2s 4ms/step - loss: 0.1428 - accuracy: 0.9419 - val_loss: 0.4091 - val_accuracy: 0.9087\n",
            "Epoch 25/70\n",
            "480/480 [==============================] - 2s 4ms/step - loss: 0.1382 - accuracy: 0.9435 - val_loss: 0.3965 - val_accuracy: 0.9111\n",
            "Epoch 26/70\n",
            "480/480 [==============================] - 2s 4ms/step - loss: 0.1372 - accuracy: 0.9460 - val_loss: 0.4052 - val_accuracy: 0.9068\n",
            "Epoch 27/70\n",
            "480/480 [==============================] - 2s 4ms/step - loss: 0.1307 - accuracy: 0.9453 - val_loss: 0.4216 - val_accuracy: 0.9095\n",
            "Epoch 28/70\n",
            "480/480 [==============================] - 2s 4ms/step - loss: 0.1321 - accuracy: 0.9461 - val_loss: 0.4048 - val_accuracy: 0.9090\n",
            "Epoch 29/70\n",
            "480/480 [==============================] - 2s 4ms/step - loss: 0.1294 - accuracy: 0.9468 - val_loss: 0.4241 - val_accuracy: 0.9111\n",
            "Epoch 30/70\n",
            "480/480 [==============================] - 2s 4ms/step - loss: 0.1297 - accuracy: 0.9473 - val_loss: 0.4221 - val_accuracy: 0.9085\n",
            "Epoch 31/70\n",
            "480/480 [==============================] - 2s 4ms/step - loss: 0.1196 - accuracy: 0.9499 - val_loss: 0.4480 - val_accuracy: 0.9080\n",
            "Epoch 32/70\n",
            "480/480 [==============================] - 2s 4ms/step - loss: 0.1217 - accuracy: 0.9499 - val_loss: 0.4213 - val_accuracy: 0.9074\n",
            "Epoch 33/70\n",
            "480/480 [==============================] - 2s 4ms/step - loss: 0.1218 - accuracy: 0.9501 - val_loss: 0.4171 - val_accuracy: 0.9078\n",
            "Epoch 34/70\n",
            "480/480 [==============================] - 2s 4ms/step - loss: 0.1200 - accuracy: 0.9514 - val_loss: 0.4326 - val_accuracy: 0.9082\n",
            "Epoch 35/70\n",
            "480/480 [==============================] - 2s 4ms/step - loss: 0.1208 - accuracy: 0.9529 - val_loss: 0.4270 - val_accuracy: 0.9099\n",
            "Epoch 36/70\n",
            "480/480 [==============================] - 2s 4ms/step - loss: 0.1140 - accuracy: 0.9538 - val_loss: 0.4318 - val_accuracy: 0.9085\n",
            "Epoch 37/70\n",
            "480/480 [==============================] - 2s 4ms/step - loss: 0.1155 - accuracy: 0.9533 - val_loss: 0.4273 - val_accuracy: 0.9124\n",
            "Epoch 38/70\n",
            "480/480 [==============================] - 2s 4ms/step - loss: 0.1111 - accuracy: 0.9543 - val_loss: 0.4570 - val_accuracy: 0.9076\n",
            "Epoch 39/70\n",
            "480/480 [==============================] - 2s 4ms/step - loss: 0.1144 - accuracy: 0.9553 - val_loss: 0.4510 - val_accuracy: 0.9120\n",
            "Epoch 40/70\n",
            "480/480 [==============================] - 2s 4ms/step - loss: 0.1121 - accuracy: 0.9551 - val_loss: 0.4444 - val_accuracy: 0.9104\n",
            "Epoch 41/70\n",
            "480/480 [==============================] - 2s 4ms/step - loss: 0.1060 - accuracy: 0.9580 - val_loss: 0.4421 - val_accuracy: 0.9032\n",
            "Epoch 42/70\n",
            "480/480 [==============================] - 2s 4ms/step - loss: 0.1116 - accuracy: 0.9553 - val_loss: 0.4420 - val_accuracy: 0.9106\n",
            "Epoch 43/70\n",
            "480/480 [==============================] - 2s 4ms/step - loss: 0.1102 - accuracy: 0.9559 - val_loss: 0.4634 - val_accuracy: 0.9081\n",
            "Epoch 44/70\n",
            "480/480 [==============================] - 2s 4ms/step - loss: 0.1067 - accuracy: 0.9577 - val_loss: 0.4709 - val_accuracy: 0.9092\n",
            "Epoch 45/70\n",
            "480/480 [==============================] - 2s 4ms/step - loss: 0.1145 - accuracy: 0.9547 - val_loss: 0.4944 - val_accuracy: 0.9071\n",
            "Epoch 46/70\n",
            "480/480 [==============================] - 2s 4ms/step - loss: 0.1015 - accuracy: 0.9599 - val_loss: 0.4624 - val_accuracy: 0.9128\n",
            "Epoch 47/70\n",
            "480/480 [==============================] - 2s 4ms/step - loss: 0.1061 - accuracy: 0.9578 - val_loss: 0.4949 - val_accuracy: 0.9074\n",
            "Epoch 48/70\n",
            "480/480 [==============================] - 2s 4ms/step - loss: 0.1029 - accuracy: 0.9583 - val_loss: 0.4657 - val_accuracy: 0.9096\n",
            "Epoch 49/70\n",
            "480/480 [==============================] - 2s 4ms/step - loss: 0.0969 - accuracy: 0.9606 - val_loss: 0.4659 - val_accuracy: 0.9088\n",
            "Epoch 50/70\n",
            "480/480 [==============================] - 2s 4ms/step - loss: 0.0986 - accuracy: 0.9599 - val_loss: 0.4888 - val_accuracy: 0.9095\n",
            "Epoch 51/70\n",
            "480/480 [==============================] - 2s 4ms/step - loss: 0.0959 - accuracy: 0.9623 - val_loss: 0.4833 - val_accuracy: 0.9098\n",
            "Epoch 52/70\n",
            "480/480 [==============================] - 2s 4ms/step - loss: 0.0983 - accuracy: 0.9611 - val_loss: 0.5146 - val_accuracy: 0.9043\n",
            "Epoch 53/70\n",
            "480/480 [==============================] - 2s 4ms/step - loss: 0.0944 - accuracy: 0.9626 - val_loss: 0.4991 - val_accuracy: 0.9105\n",
            "Epoch 54/70\n",
            "480/480 [==============================] - 2s 4ms/step - loss: 0.0960 - accuracy: 0.9619 - val_loss: 0.4980 - val_accuracy: 0.9078\n",
            "Epoch 55/70\n",
            "480/480 [==============================] - 2s 4ms/step - loss: 0.0935 - accuracy: 0.9628 - val_loss: 0.4882 - val_accuracy: 0.9093\n",
            "Epoch 56/70\n",
            "480/480 [==============================] - 2s 4ms/step - loss: 0.1014 - accuracy: 0.9606 - val_loss: 0.5067 - val_accuracy: 0.9071\n",
            "Epoch 57/70\n",
            "480/480 [==============================] - 2s 4ms/step - loss: 0.0981 - accuracy: 0.9619 - val_loss: 0.5403 - val_accuracy: 0.9083\n",
            "Epoch 58/70\n",
            "480/480 [==============================] - 2s 4ms/step - loss: 0.0962 - accuracy: 0.9631 - val_loss: 0.5137 - val_accuracy: 0.9043\n",
            "Epoch 59/70\n",
            "480/480 [==============================] - 2s 4ms/step - loss: 0.0975 - accuracy: 0.9619 - val_loss: 0.4950 - val_accuracy: 0.9113\n",
            "Epoch 60/70\n",
            "480/480 [==============================] - 2s 4ms/step - loss: 0.0956 - accuracy: 0.9625 - val_loss: 0.5019 - val_accuracy: 0.9082\n",
            "Epoch 61/70\n",
            "480/480 [==============================] - 2s 4ms/step - loss: 0.0931 - accuracy: 0.9624 - val_loss: 0.5268 - val_accuracy: 0.9090\n",
            "Epoch 62/70\n",
            "480/480 [==============================] - 2s 4ms/step - loss: 0.0901 - accuracy: 0.9649 - val_loss: 0.5326 - val_accuracy: 0.9068\n",
            "Epoch 63/70\n",
            "480/480 [==============================] - 2s 4ms/step - loss: 0.0982 - accuracy: 0.9633 - val_loss: 0.5200 - val_accuracy: 0.9041\n",
            "Epoch 64/70\n",
            "480/480 [==============================] - 2s 4ms/step - loss: 0.0948 - accuracy: 0.9639 - val_loss: 0.5295 - val_accuracy: 0.9058\n",
            "Epoch 65/70\n",
            "480/480 [==============================] - 2s 4ms/step - loss: 0.0893 - accuracy: 0.9651 - val_loss: 0.5430 - val_accuracy: 0.9053\n",
            "Epoch 66/70\n",
            "480/480 [==============================] - 2s 4ms/step - loss: 0.0922 - accuracy: 0.9652 - val_loss: 0.5451 - val_accuracy: 0.9080\n",
            "Epoch 67/70\n",
            "480/480 [==============================] - 2s 4ms/step - loss: 0.0856 - accuracy: 0.9668 - val_loss: 0.5379 - val_accuracy: 0.9051\n",
            "Epoch 68/70\n",
            "480/480 [==============================] - 2s 4ms/step - loss: 0.0846 - accuracy: 0.9660 - val_loss: 0.5406 - val_accuracy: 0.9091\n",
            "Epoch 69/70\n",
            "480/480 [==============================] - 2s 4ms/step - loss: 0.0916 - accuracy: 0.9651 - val_loss: 0.5420 - val_accuracy: 0.9041\n",
            "Epoch 70/70\n",
            "480/480 [==============================] - 2s 4ms/step - loss: 0.0911 - accuracy: 0.9662 - val_loss: 0.5218 - val_accuracy: 0.9094\n"
          ],
          "name": "stdout"
        }
      ]
    },
    {
      "cell_type": "code",
      "metadata": {
        "id": "VfQxhErkGR7B",
        "colab_type": "code",
        "colab": {
          "base_uri": "https://localhost:8080/",
          "height": 52
        },
        "outputId": "08a8c042-bc30-4f3f-fc46-9500ee73c999"
      },
      "source": [
        "y_test = test_labels\n",
        "evaluation = cnn_model.evaluate(X_test, y_test)\n",
        "print(f'Test Accuracy : {evaluation[1]:.3f}')"
      ],
      "execution_count": 69,
      "outputs": [
        {
          "output_type": "stream",
          "text": [
            "313/313 [==============================] - 1s 2ms/step - loss: 0.6218 - accuracy: 0.8946\n",
            "Test Accuracy : 0.895\n"
          ],
          "name": "stdout"
        }
      ]
    },
    {
      "cell_type": "code",
      "metadata": {
        "id": "kiSmGTS9GR2u",
        "colab_type": "code",
        "colab": {}
      },
      "source": [
        "# get the predictions for the test data\n",
        "predicted_classes = cnn_model.predict_classes(X_test)"
      ],
      "execution_count": 0,
      "outputs": []
    },
    {
      "cell_type": "code",
      "metadata": {
        "id": "LMPYHEX6GR0N",
        "colab_type": "code",
        "colab": {
          "base_uri": "https://localhost:8080/",
          "height": 609
        },
        "outputId": "36221831-2e93-4f99-976a-e37a185ad4f7"
      },
      "source": [
        "from sklearn.metrics import confusion_matrix\n",
        "import seaborn as sns\n",
        "cm = confusion_matrix(y_test, predicted_classes)\n",
        "plt.figure(figsize = (14,10))\n",
        "sns.heatmap(cm, annot=True)\n",
        "# Sum the diagonal element to get the total true correct values"
      ],
      "execution_count": 71,
      "outputs": [
        {
          "output_type": "execute_result",
          "data": {
            "text/plain": [
              "<matplotlib.axes._subplots.AxesSubplot at 0x7f9090d6bac8>"
            ]
          },
          "metadata": {
            "tags": []
          },
          "execution_count": 71
        },
        {
          "output_type": "display_data",
          "data": {
            "image/png": "[encoded data removed]",
            "text/plain": [
              "<Figure size 1008x720 with 2 Axes>"
            ]
          },
          "metadata": {
            "tags": []
          }
        }
      ]
    },
    {
      "cell_type": "code",
      "metadata": {
        "id": "gDsEMhglGRxf",
        "colab_type": "code",
        "colab": {
          "base_uri": "https://localhost:8080/",
          "height": 190
        },
        "outputId": "6824e8b5-7b49-47b4-d99d-07d43c79996d"
      },
      "source": [
        "cm"
      ],
      "execution_count": 72,
      "outputs": [
        {
          "output_type": "execute_result",
          "data": {
            "text/plain": [
              "array([[832,   3,  14,  14,   4,   0, 126,   0,   7,   0],\n",
              "       [  2, 982,   2,   8,   4,   0,   2,   0,   0,   0],\n",
              "       [ 12,   0, 802,  13,  94,   1,  77,   0,   0,   1],\n",
              "       [ 15,   7,  15, 866,  43,   0,  48,   0,   6,   0],\n",
              "       [  1,   1,  66,  28, 831,   0,  72,   0,   1,   0],\n",
              "       [  0,   0,   0,   1,   0, 981,   0,  12,   0,   6],\n",
              "       [103,   1,  58,  15,  63,   0, 752,   0,   7,   1],\n",
              "       [  0,   0,   0,   0,   0,   9,   0, 968,   2,  21],\n",
              "       [  4,   1,   1,   3,   9,   1,   8,   1, 971,   1],\n",
              "       [  0,   0,   0,   0,   0,   7,   1,  31,   0, 961]])"
            ]
          },
          "metadata": {
            "tags": []
          },
          "execution_count": 72
        }
      ]
    },
    {
      "cell_type": "code",
      "metadata": {
        "id": "-3LlrI12GRsk",
        "colab_type": "code",
        "colab": {
          "base_uri": "https://localhost:8080/",
          "height": 312
        },
        "outputId": "13d5a07a-0fff-4a52-a260-f3ea250a23c5"
      },
      "source": [
        "from sklearn.metrics import classification_report\n",
        "\n",
        "num_classes = 10\n",
        "target_names = [f\"Class {i}\" for i in range(num_classes)]\n",
        "\n",
        "print(classification_report(y_test, predicted_classes, target_names = target_names))"
      ],
      "execution_count": 73,
      "outputs": [
        {
          "output_type": "stream",
          "text": [
            "              precision    recall  f1-score   support\n",
            "\n",
            "     Class 0       0.86      0.83      0.85      1000\n",
            "     Class 1       0.99      0.98      0.98      1000\n",
            "     Class 2       0.84      0.80      0.82      1000\n",
            "     Class 3       0.91      0.87      0.89      1000\n",
            "     Class 4       0.79      0.83      0.81      1000\n",
            "     Class 5       0.98      0.98      0.98      1000\n",
            "     Class 6       0.69      0.75      0.72      1000\n",
            "     Class 7       0.96      0.97      0.96      1000\n",
            "     Class 8       0.98      0.97      0.97      1000\n",
            "     Class 9       0.97      0.96      0.97      1000\n",
            "\n",
            "    accuracy                           0.89     10000\n",
            "   macro avg       0.90      0.89      0.90     10000\n",
            "weighted avg       0.90      0.89      0.90     10000\n",
            "\n"
          ],
          "name": "stdout"
        }
      ]
    },
    {
      "cell_type": "code",
      "metadata": {
        "id": "mZUWW_kWGRpf",
        "colab_type": "code",
        "colab": {
          "base_uri": "https://localhost:8080/",
          "height": 697
        },
        "outputId": "acd64694-d42e-4394-ca81-678356583e21"
      },
      "source": [
        "L = 5\n",
        "W = 5\n",
        "fig, axes = plt.subplots(L, W, figsize = (12,12))\n",
        "axes = axes.ravel()\n",
        "\n",
        "for i in np.arange(0, L * W):  \n",
        "    axes[i].imshow(X_test[i].reshape(28,28))\n",
        "    axes[i].set_title(f\"Prediction Class = {predicted_classes[i]:0.1f}\\n True Class = {y_test[i]:0.1f}\")\n",
        "    axes[i].axis('off')\n",
        "\n",
        "plt.subplots_adjust(wspace=0.5)"
      ],
      "execution_count": 74,
      "outputs": [
        {
          "output_type": "display_data",
          "data": {
            "image/png": "[encoded data removed]",
            "text/plain": [
              "<Figure size 864x864 with 25 Axes>"
            ]
          },
          "metadata": {
            "tags": []
          }
        }
      ]
    },
    {
      "cell_type": "code",
      "metadata": {
        "colab_type": "code",
        "id": "XQDPYvfVImIv",
        "colab": {}
      },
      "source": [
        "model = models.Sequential()\n",
        "model.add(layers.Conv2D(64, (3, 3), activation='relu', input_shape=(28, 28, 1)))\n",
        "model.add(layers.MaxPooling2D((2, 2)))\n",
        "model.add(layers.Conv2D(64, (3, 3), activation='relu'))\n",
        "model.add(layers.MaxPooling2D((2, 2)))\n",
        "model.add(layers.Conv2D(64, (3, 3), activation='relu'))\n",
        "model.add(layers.Flatten())\n",
        "model.add(layers.Dense(64, activation='relu'))\n",
        "model.add(layers.Dense(10))"
      ],
      "execution_count": 0,
      "outputs": []
    },
    {
      "cell_type": "code",
      "metadata": {
        "id": "Uq-BDHg2-hk7",
        "colab_type": "code",
        "colab": {
          "base_uri": "https://localhost:8080/",
          "height": 433
        },
        "outputId": "24f4631b-8f4a-477a-f062-5fb0f5269f50"
      },
      "source": [
        ""
      ],
      "execution_count": 23,
      "outputs": [
        {
          "output_type": "stream",
          "text": [
            "Model: \"sequential\"\n",
            "_________________________________________________________________\n",
            "Layer (type)                 Output Shape              Param #   \n",
            "=================================================================\n",
            "conv2d (Conv2D)              (None, 26, 26, 32)        320       \n",
            "_________________________________________________________________\n",
            "max_pooling2d (MaxPooling2D) (None, 13, 13, 32)        0         \n",
            "_________________________________________________________________\n",
            "conv2d_1 (Conv2D)            (None, 11, 11, 64)        18496     \n",
            "_________________________________________________________________\n",
            "max_pooling2d_1 (MaxPooling2 (None, 5, 5, 64)          0         \n",
            "_________________________________________________________________\n",
            "conv2d_2 (Conv2D)            (None, 3, 3, 64)          36928     \n",
            "_________________________________________________________________\n",
            "flatten (Flatten)            (None, 576)               0         \n",
            "_________________________________________________________________\n",
            "dense (Dense)                (None, 64)                36928     \n",
            "_________________________________________________________________\n",
            "dense_1 (Dense)              (None, 10)                650       \n",
            "=================================================================\n",
            "Total params: 93,322\n",
            "Trainable params: 93,322\n",
            "Non-trainable params: 0\n",
            "_________________________________________________________________\n"
          ],
          "name": "stdout"
        }
      ]
    },
    {
      "cell_type": "code",
      "metadata": {
        "id": "xV9bHcG--xLC",
        "colab_type": "code",
        "colab": {}
      },
      "source": [
        "model.compile(loss='sparse_categorical_crossentropy', optimizer='adam', metrics=['accuracy'])"
      ],
      "execution_count": 0,
      "outputs": []
    },
    {
      "cell_type": "code",
      "metadata": {
        "id": "lIOm0Xt2-xIC",
        "colab_type": "code",
        "colab": {
          "base_uri": "https://localhost:8080/",
          "height": 710
        },
        "outputId": "a6277153-2e92-4d3d-8022-97204dfb6e1e"
      },
      "source": [
        "history = model.fit(train_images, train_labels, batch_size=100, epochs = 20, verbose=1)"
      ],
      "execution_count": 25,
      "outputs": [
        {
          "output_type": "stream",
          "text": [
            "Epoch 1/20\n",
            "600/600 [==============================] - 2s 4ms/step - loss: 2.9417 - accuracy: 0.2537\n",
            "Epoch 2/20\n",
            "600/600 [==============================] - 2s 4ms/step - loss: 2.3026 - accuracy: 0.1999\n",
            "Epoch 3/20\n",
            "600/600 [==============================] - 2s 4ms/step - loss: 2.3026 - accuracy: 0.1999\n",
            "Epoch 4/20\n",
            "600/600 [==============================] - 2s 4ms/step - loss: 2.3026 - accuracy: 0.1999\n",
            "Epoch 5/20\n",
            "600/600 [==============================] - 2s 3ms/step - loss: 2.3026 - accuracy: 0.1999\n",
            "Epoch 6/20\n",
            "600/600 [==============================] - 2s 3ms/step - loss: 2.3026 - accuracy: 0.1999\n",
            "Epoch 7/20\n",
            "600/600 [==============================] - 2s 3ms/step - loss: 2.3026 - accuracy: 0.1999\n",
            "Epoch 8/20\n",
            "600/600 [==============================] - 2s 3ms/step - loss: 2.3026 - accuracy: 0.1999\n",
            "Epoch 9/20\n",
            "600/600 [==============================] - 2s 3ms/step - loss: 2.3026 - accuracy: 0.1999\n",
            "Epoch 10/20\n",
            "600/600 [==============================] - 2s 3ms/step - loss: 2.3026 - accuracy: 0.1999\n",
            "Epoch 11/20\n",
            "600/600 [==============================] - 2s 3ms/step - loss: 2.3026 - accuracy: 0.1999\n",
            "Epoch 12/20\n",
            "600/600 [==============================] - 2s 3ms/step - loss: 2.3026 - accuracy: 0.1999\n",
            "Epoch 13/20\n",
            "600/600 [==============================] - 2s 3ms/step - loss: 2.3026 - accuracy: 0.1999\n",
            "Epoch 14/20\n",
            "600/600 [==============================] - 2s 3ms/step - loss: 2.3026 - accuracy: 0.1999\n",
            "Epoch 15/20\n",
            "600/600 [==============================] - 2s 3ms/step - loss: 2.3026 - accuracy: 0.1999\n",
            "Epoch 16/20\n",
            "600/600 [==============================] - 2s 3ms/step - loss: 2.3026 - accuracy: 0.1999\n",
            "Epoch 17/20\n",
            "600/600 [==============================] - 2s 3ms/step - loss: 2.3026 - accuracy: 0.1999\n",
            "Epoch 18/20\n",
            "600/600 [==============================] - 2s 3ms/step - loss: 2.3026 - accuracy: 0.1999\n",
            "Epoch 19/20\n",
            "600/600 [==============================] - 2s 3ms/step - loss: 2.3026 - accuracy: 0.1999\n",
            "Epoch 20/20\n",
            "600/600 [==============================] - 2s 3ms/step - loss: 2.3026 - accuracy: 0.1999\n"
          ],
          "name": "stdout"
        }
      ]
    },
    {
      "cell_type": "code",
      "metadata": {
        "id": "75WSwUkS-xDV",
        "colab_type": "code",
        "colab": {}
      },
      "source": [
        ""
      ],
      "execution_count": 0,
      "outputs": []
    },
    {
      "cell_type": "code",
      "metadata": {
        "id": "rNKm5FJo-w_O",
        "colab_type": "code",
        "colab": {}
      },
      "source": [
        ""
      ],
      "execution_count": 0,
      "outputs": []
    },
    {
      "cell_type": "code",
      "metadata": {
        "id": "GooMV2VX-w7h",
        "colab_type": "code",
        "colab": {}
      },
      "source": [
        ""
      ],
      "execution_count": 0,
      "outputs": []
    },
    {
      "cell_type": "code",
      "metadata": {
        "id": "SuueH4uI-w31",
        "colab_type": "code",
        "colab": {}
      },
      "source": [
        ""
      ],
      "execution_count": 0,
      "outputs": []
    },
    {
      "cell_type": "code",
      "metadata": {
        "id": "VglI9_eTp_Pl",
        "colab_type": "code",
        "colab": {}
      },
      "source": [
        "train_images_rows, train_images_cols = 28, 28\n",
        "input_shape = (train_images_rows, train_images_cols, 1)\n",
        "batch_size = 128\n",
        "num_classes = 10\n",
        "epochs = 12"
      ],
      "execution_count": 0,
      "outputs": []
    },
    {
      "cell_type": "code",
      "metadata": {
        "id": "GOeruE1Fx-mt",
        "colab_type": "code",
        "colab": {
          "base_uri": "https://localhost:8080/",
          "height": 234
        },
        "outputId": "a8bc0dc5-5ecf-4077-93ad-8976d1d09206"
      },
      "source": [
        "layer1 = tf.keras.layers.Conv2D(32, kernel_size=(3,3),strides = (1,1), padding = 'valid', activation= 'relu', input_shape = (784,))\n",
        "layer2 = tf.keras.layers.Conv2D(64, kernel_size=(3,3),strides = (1,1), padding = 'valid', activation= 'relu', input_shape = (784,))\n",
        "tf.keras.layers.pooling.MaxPooling2D(pool_size=(2, 2), strides=None, padding='valid', data_format=None) \n",
        "#layer3 = tf.keras.layers.pooling.MaxPooling2D(pool_size=(2, 2), strides=None, padding='valid', data_format=None) \n",
        "layer4 = tf.keras.layers.Dense(10, activation='softmax')\n",
        "'''\n",
        "my_model.add(MaxPooling2D(pool_size=(2, 2)))\n",
        "my_model.add(Dropout(0.25))\n",
        "my_model.add(Flatten())\n",
        "my_model.add(Dense(128, activation='relu'))\n",
        "my_model.add(Dropout(0.5))\n",
        "\n",
        "my_model.add(Dense(10, activation='softmax'))\n",
        "'''"
      ],
      "execution_count": 168,
      "outputs": [
        {
          "output_type": "error",
          "ename": "AttributeError",
          "evalue": "ignored",
          "traceback": [
            "\u001b[0;31m---------------------------------------------------------------------------\u001b[0m",
            "\u001b[0;31mAttributeError\u001b[0m                            Traceback (most recent call last)",
            "\u001b[0;32m<ipython-input-168-32faccdde553>\u001b[0m in \u001b[0;36m<module>\u001b[0;34m()\u001b[0m\n\u001b[1;32m      1\u001b[0m \u001b[0mlayer1\u001b[0m \u001b[0;34m=\u001b[0m \u001b[0mtf\u001b[0m\u001b[0;34m.\u001b[0m\u001b[0mkeras\u001b[0m\u001b[0;34m.\u001b[0m\u001b[0mlayers\u001b[0m\u001b[0;34m.\u001b[0m\u001b[0mConv2D\u001b[0m\u001b[0;34m(\u001b[0m\u001b[0;36m32\u001b[0m\u001b[0;34m,\u001b[0m \u001b[0mkernel_size\u001b[0m\u001b[0;34m=\u001b[0m\u001b[0;34m(\u001b[0m\u001b[0;36m3\u001b[0m\u001b[0;34m,\u001b[0m\u001b[0;36m3\u001b[0m\u001b[0;34m)\u001b[0m\u001b[0;34m,\u001b[0m\u001b[0mstrides\u001b[0m \u001b[0;34m=\u001b[0m \u001b[0;34m(\u001b[0m\u001b[0;36m1\u001b[0m\u001b[0;34m,\u001b[0m\u001b[0;36m1\u001b[0m\u001b[0;34m)\u001b[0m\u001b[0;34m,\u001b[0m \u001b[0mpadding\u001b[0m \u001b[0;34m=\u001b[0m \u001b[0;34m'valid'\u001b[0m\u001b[0;34m,\u001b[0m \u001b[0mactivation\u001b[0m\u001b[0;34m=\u001b[0m \u001b[0;34m'relu'\u001b[0m\u001b[0;34m,\u001b[0m \u001b[0minput_shape\u001b[0m \u001b[0;34m=\u001b[0m \u001b[0;34m(\u001b[0m\u001b[0;36m784\u001b[0m\u001b[0;34m,\u001b[0m\u001b[0;34m)\u001b[0m\u001b[0;34m)\u001b[0m\u001b[0;34m\u001b[0m\u001b[0;34m\u001b[0m\u001b[0m\n\u001b[1;32m      2\u001b[0m \u001b[0mlayer2\u001b[0m \u001b[0;34m=\u001b[0m \u001b[0mtf\u001b[0m\u001b[0;34m.\u001b[0m\u001b[0mkeras\u001b[0m\u001b[0;34m.\u001b[0m\u001b[0mlayers\u001b[0m\u001b[0;34m.\u001b[0m\u001b[0mConv2D\u001b[0m\u001b[0;34m(\u001b[0m\u001b[0;36m64\u001b[0m\u001b[0;34m,\u001b[0m \u001b[0mkernel_size\u001b[0m\u001b[0;34m=\u001b[0m\u001b[0;34m(\u001b[0m\u001b[0;36m3\u001b[0m\u001b[0;34m,\u001b[0m\u001b[0;36m3\u001b[0m\u001b[0;34m)\u001b[0m\u001b[0;34m,\u001b[0m\u001b[0mstrides\u001b[0m \u001b[0;34m=\u001b[0m \u001b[0;34m(\u001b[0m\u001b[0;36m1\u001b[0m\u001b[0;34m,\u001b[0m\u001b[0;36m1\u001b[0m\u001b[0;34m)\u001b[0m\u001b[0;34m,\u001b[0m \u001b[0mpadding\u001b[0m \u001b[0;34m=\u001b[0m \u001b[0;34m'valid'\u001b[0m\u001b[0;34m,\u001b[0m \u001b[0mactivation\u001b[0m\u001b[0;34m=\u001b[0m \u001b[0;34m'relu'\u001b[0m\u001b[0;34m,\u001b[0m \u001b[0minput_shape\u001b[0m \u001b[0;34m=\u001b[0m \u001b[0;34m(\u001b[0m\u001b[0;36m784\u001b[0m\u001b[0;34m,\u001b[0m\u001b[0;34m)\u001b[0m\u001b[0;34m)\u001b[0m\u001b[0;34m\u001b[0m\u001b[0;34m\u001b[0m\u001b[0m\n\u001b[0;32m----> 3\u001b[0;31m \u001b[0mtf\u001b[0m\u001b[0;34m.\u001b[0m\u001b[0mkeras\u001b[0m\u001b[0;34m.\u001b[0m\u001b[0mlayers\u001b[0m\u001b[0;34m.\u001b[0m\u001b[0mpooling\u001b[0m\u001b[0;34m.\u001b[0m\u001b[0mMaxPooling2D\u001b[0m\u001b[0;34m(\u001b[0m\u001b[0mpool_size\u001b[0m\u001b[0;34m=\u001b[0m\u001b[0;34m(\u001b[0m\u001b[0;36m2\u001b[0m\u001b[0;34m,\u001b[0m \u001b[0;36m2\u001b[0m\u001b[0;34m)\u001b[0m\u001b[0;34m,\u001b[0m \u001b[0mstrides\u001b[0m\u001b[0;34m=\u001b[0m\u001b[0;32mNone\u001b[0m\u001b[0;34m,\u001b[0m \u001b[0mpadding\u001b[0m\u001b[0;34m=\u001b[0m\u001b[0;34m'valid'\u001b[0m\u001b[0;34m,\u001b[0m \u001b[0mdata_format\u001b[0m\u001b[0;34m=\u001b[0m\u001b[0;32mNone\u001b[0m\u001b[0;34m)\u001b[0m\u001b[0;34m\u001b[0m\u001b[0;34m\u001b[0m\u001b[0m\n\u001b[0m\u001b[1;32m      4\u001b[0m \u001b[0;31m#layer3 = tf.keras.layers.pooling.MaxPooling2D(pool_size=(2, 2), strides=None, padding='valid', data_format=None)\u001b[0m\u001b[0;34m\u001b[0m\u001b[0;34m\u001b[0m\u001b[0;34m\u001b[0m\u001b[0m\n\u001b[1;32m      5\u001b[0m \u001b[0mlayer4\u001b[0m \u001b[0;34m=\u001b[0m \u001b[0mtf\u001b[0m\u001b[0;34m.\u001b[0m\u001b[0mkeras\u001b[0m\u001b[0;34m.\u001b[0m\u001b[0mlayers\u001b[0m\u001b[0;34m.\u001b[0m\u001b[0mDense\u001b[0m\u001b[0;34m(\u001b[0m\u001b[0;36m10\u001b[0m\u001b[0;34m,\u001b[0m \u001b[0mactivation\u001b[0m\u001b[0;34m=\u001b[0m\u001b[0;34m'softmax'\u001b[0m\u001b[0;34m)\u001b[0m\u001b[0;34m\u001b[0m\u001b[0;34m\u001b[0m\u001b[0m\n",
            "\u001b[0;31mAttributeError\u001b[0m: module 'tensorflow.keras.layers' has no attribute 'pooling'"
          ]
        }
      ]
    },
    {
      "cell_type": "code",
      "metadata": {
        "id": "vDkpbkAz1OKp",
        "colab_type": "code",
        "colab": {
          "base_uri": "https://localhost:8080/",
          "height": 328
        },
        "outputId": "5e53d9a5-c018-42ba-d756-25c23e626f48"
      },
      "source": [
        "my_model = tf.keras.Sequential(tf.keras.layers.Conv2D(32, kernel_size =(3,3), strides=(1, 1), padding='valid', activation='relu',input_shape=(784,)), \n",
        "                               tf.keras.layers.Dense(10,activation = 'softmax'))\n"
      ],
      "execution_count": 182,
      "outputs": [
        {
          "output_type": "error",
          "ename": "ValueError",
          "evalue": "ignored",
          "traceback": [
            "\u001b[0;31m---------------------------------------------------------------------------\u001b[0m",
            "\u001b[0;31mValueError\u001b[0m                                Traceback (most recent call last)",
            "\u001b[0;32m<ipython-input-182-ebd29844196e>\u001b[0m in \u001b[0;36m<module>\u001b[0;34m()\u001b[0m\n\u001b[1;32m      1\u001b[0m my_model = tf.keras.Sequential(tf.keras.layers.Conv2D(32, kernel_size =(3,3), strides=(1, 1), padding='valid', activation='relu',input_shape=(784,)), \n\u001b[0;32m----> 2\u001b[0;31m                                tf.keras.layers.Dense(10,activation = 'softmax'))\n\u001b[0m",
            "\u001b[0;32m/usr/local/lib/python3.6/dist-packages/tensorflow/python/training/tracking/base.py\u001b[0m in \u001b[0;36m_method_wrapper\u001b[0;34m(self, *args, **kwargs)\u001b[0m\n\u001b[1;32m    454\u001b[0m     \u001b[0mself\u001b[0m\u001b[0;34m.\u001b[0m\u001b[0m_self_setattr_tracking\u001b[0m \u001b[0;34m=\u001b[0m \u001b[0;32mFalse\u001b[0m  \u001b[0;31m# pylint: disable=protected-access\u001b[0m\u001b[0;34m\u001b[0m\u001b[0;34m\u001b[0m\u001b[0m\n\u001b[1;32m    455\u001b[0m     \u001b[0;32mtry\u001b[0m\u001b[0;34m:\u001b[0m\u001b[0;34m\u001b[0m\u001b[0;34m\u001b[0m\u001b[0m\n\u001b[0;32m--> 456\u001b[0;31m       \u001b[0mresult\u001b[0m \u001b[0;34m=\u001b[0m \u001b[0mmethod\u001b[0m\u001b[0;34m(\u001b[0m\u001b[0mself\u001b[0m\u001b[0;34m,\u001b[0m \u001b[0;34m*\u001b[0m\u001b[0margs\u001b[0m\u001b[0;34m,\u001b[0m \u001b[0;34m**\u001b[0m\u001b[0mkwargs\u001b[0m\u001b[0;34m)\u001b[0m\u001b[0;34m\u001b[0m\u001b[0;34m\u001b[0m\u001b[0m\n\u001b[0m\u001b[1;32m    457\u001b[0m     \u001b[0;32mfinally\u001b[0m\u001b[0;34m:\u001b[0m\u001b[0;34m\u001b[0m\u001b[0;34m\u001b[0m\u001b[0m\n\u001b[1;32m    458\u001b[0m       \u001b[0mself\u001b[0m\u001b[0;34m.\u001b[0m\u001b[0m_self_setattr_tracking\u001b[0m \u001b[0;34m=\u001b[0m \u001b[0mprevious_value\u001b[0m  \u001b[0;31m# pylint: disable=protected-access\u001b[0m\u001b[0;34m\u001b[0m\u001b[0;34m\u001b[0m\u001b[0m\n",
            "\u001b[0;32m/usr/local/lib/python3.6/dist-packages/tensorflow/python/keras/engine/sequential.py\u001b[0m in \u001b[0;36m__init__\u001b[0;34m(self, layers, name)\u001b[0m\n\u001b[1;32m    127\u001b[0m       \u001b[0mtf_utils\u001b[0m\u001b[0;34m.\u001b[0m\u001b[0massert_no_legacy_layers\u001b[0m\u001b[0;34m(\u001b[0m\u001b[0mlayers\u001b[0m\u001b[0;34m)\u001b[0m\u001b[0;34m\u001b[0m\u001b[0;34m\u001b[0m\u001b[0m\n\u001b[1;32m    128\u001b[0m       \u001b[0;32mfor\u001b[0m \u001b[0mlayer\u001b[0m \u001b[0;32min\u001b[0m \u001b[0mlayers\u001b[0m\u001b[0;34m:\u001b[0m\u001b[0;34m\u001b[0m\u001b[0;34m\u001b[0m\u001b[0m\n\u001b[0;32m--> 129\u001b[0;31m         \u001b[0mself\u001b[0m\u001b[0;34m.\u001b[0m\u001b[0madd\u001b[0m\u001b[0;34m(\u001b[0m\u001b[0mlayer\u001b[0m\u001b[0;34m)\u001b[0m\u001b[0;34m\u001b[0m\u001b[0;34m\u001b[0m\u001b[0m\n\u001b[0m\u001b[1;32m    130\u001b[0m \u001b[0;34m\u001b[0m\u001b[0m\n\u001b[1;32m    131\u001b[0m   \u001b[0;34m@\u001b[0m\u001b[0mproperty\u001b[0m\u001b[0;34m\u001b[0m\u001b[0;34m\u001b[0m\u001b[0m\n",
            "\u001b[0;32m/usr/local/lib/python3.6/dist-packages/tensorflow/python/training/tracking/base.py\u001b[0m in \u001b[0;36m_method_wrapper\u001b[0;34m(self, *args, **kwargs)\u001b[0m\n\u001b[1;32m    454\u001b[0m     \u001b[0mself\u001b[0m\u001b[0;34m.\u001b[0m\u001b[0m_self_setattr_tracking\u001b[0m \u001b[0;34m=\u001b[0m \u001b[0;32mFalse\u001b[0m  \u001b[0;31m# pylint: disable=protected-access\u001b[0m\u001b[0;34m\u001b[0m\u001b[0;34m\u001b[0m\u001b[0m\n\u001b[1;32m    455\u001b[0m     \u001b[0;32mtry\u001b[0m\u001b[0;34m:\u001b[0m\u001b[0;34m\u001b[0m\u001b[0;34m\u001b[0m\u001b[0m\n\u001b[0;32m--> 456\u001b[0;31m       \u001b[0mresult\u001b[0m \u001b[0;34m=\u001b[0m \u001b[0mmethod\u001b[0m\u001b[0;34m(\u001b[0m\u001b[0mself\u001b[0m\u001b[0;34m,\u001b[0m \u001b[0;34m*\u001b[0m\u001b[0margs\u001b[0m\u001b[0;34m,\u001b[0m \u001b[0;34m**\u001b[0m\u001b[0mkwargs\u001b[0m\u001b[0;34m)\u001b[0m\u001b[0;34m\u001b[0m\u001b[0;34m\u001b[0m\u001b[0m\n\u001b[0m\u001b[1;32m    457\u001b[0m     \u001b[0;32mfinally\u001b[0m\u001b[0;34m:\u001b[0m\u001b[0;34m\u001b[0m\u001b[0;34m\u001b[0m\u001b[0m\n\u001b[1;32m    458\u001b[0m       \u001b[0mself\u001b[0m\u001b[0;34m.\u001b[0m\u001b[0m_self_setattr_tracking\u001b[0m \u001b[0;34m=\u001b[0m \u001b[0mprevious_value\u001b[0m  \u001b[0;31m# pylint: disable=protected-access\u001b[0m\u001b[0;34m\u001b[0m\u001b[0;34m\u001b[0m\u001b[0m\n",
            "\u001b[0;32m/usr/local/lib/python3.6/dist-packages/tensorflow/python/keras/engine/sequential.py\u001b[0m in \u001b[0;36madd\u001b[0;34m(self, layer)\u001b[0m\n\u001b[1;32m    196\u001b[0m           \u001b[0;31m# and create the node connecting the current layer\u001b[0m\u001b[0;34m\u001b[0m\u001b[0;34m\u001b[0m\u001b[0;34m\u001b[0m\u001b[0m\n\u001b[1;32m    197\u001b[0m           \u001b[0;31m# to the input layer we just created.\u001b[0m\u001b[0;34m\u001b[0m\u001b[0;34m\u001b[0m\u001b[0;34m\u001b[0m\u001b[0m\n\u001b[0;32m--> 198\u001b[0;31m           \u001b[0mlayer\u001b[0m\u001b[0;34m(\u001b[0m\u001b[0mx\u001b[0m\u001b[0;34m)\u001b[0m\u001b[0;34m\u001b[0m\u001b[0;34m\u001b[0m\u001b[0m\n\u001b[0m\u001b[1;32m    199\u001b[0m           \u001b[0mset_inputs\u001b[0m \u001b[0;34m=\u001b[0m \u001b[0;32mTrue\u001b[0m\u001b[0;34m\u001b[0m\u001b[0;34m\u001b[0m\u001b[0m\n\u001b[1;32m    200\u001b[0m \u001b[0;34m\u001b[0m\u001b[0m\n",
            "\u001b[0;32m/usr/local/lib/python3.6/dist-packages/tensorflow/python/keras/engine/base_layer.py\u001b[0m in \u001b[0;36m__call__\u001b[0;34m(self, *args, **kwargs)\u001b[0m\n\u001b[1;32m    884\u001b[0m         \u001b[0;31m# are casted, not before.\u001b[0m\u001b[0;34m\u001b[0m\u001b[0;34m\u001b[0m\u001b[0;34m\u001b[0m\u001b[0m\n\u001b[1;32m    885\u001b[0m         input_spec.assert_input_compatibility(self.input_spec, inputs,\n\u001b[0;32m--> 886\u001b[0;31m                                               self.name)\n\u001b[0m\u001b[1;32m    887\u001b[0m         if (any(isinstance(x, ragged_tensor.RaggedTensor) for x in input_list)\n\u001b[1;32m    888\u001b[0m             and self._supports_ragged_inputs is False):  # pylint: disable=g-bool-id-comparison\n",
            "\u001b[0;32m/usr/local/lib/python3.6/dist-packages/tensorflow/python/keras/engine/input_spec.py\u001b[0m in \u001b[0;36massert_input_compatibility\u001b[0;34m(input_spec, inputs, layer_name)\u001b[0m\n\u001b[1;32m    178\u001b[0m                          \u001b[0;34m'expected ndim='\u001b[0m \u001b[0;34m+\u001b[0m \u001b[0mstr\u001b[0m\u001b[0;34m(\u001b[0m\u001b[0mspec\u001b[0m\u001b[0;34m.\u001b[0m\u001b[0mndim\u001b[0m\u001b[0;34m)\u001b[0m \u001b[0;34m+\u001b[0m \u001b[0;34m', found ndim='\u001b[0m \u001b[0;34m+\u001b[0m\u001b[0;34m\u001b[0m\u001b[0;34m\u001b[0m\u001b[0m\n\u001b[1;32m    179\u001b[0m                          \u001b[0mstr\u001b[0m\u001b[0;34m(\u001b[0m\u001b[0mndim\u001b[0m\u001b[0;34m)\u001b[0m \u001b[0;34m+\u001b[0m \u001b[0;34m'. Full shape received: '\u001b[0m \u001b[0;34m+\u001b[0m\u001b[0;34m\u001b[0m\u001b[0;34m\u001b[0m\u001b[0m\n\u001b[0;32m--> 180\u001b[0;31m                          str(x.shape.as_list()))\n\u001b[0m\u001b[1;32m    181\u001b[0m     \u001b[0;32mif\u001b[0m \u001b[0mspec\u001b[0m\u001b[0;34m.\u001b[0m\u001b[0mmax_ndim\u001b[0m \u001b[0;32mis\u001b[0m \u001b[0;32mnot\u001b[0m \u001b[0;32mNone\u001b[0m\u001b[0;34m:\u001b[0m\u001b[0;34m\u001b[0m\u001b[0;34m\u001b[0m\u001b[0m\n\u001b[1;32m    182\u001b[0m       \u001b[0mndim\u001b[0m \u001b[0;34m=\u001b[0m \u001b[0mx\u001b[0m\u001b[0;34m.\u001b[0m\u001b[0mshape\u001b[0m\u001b[0;34m.\u001b[0m\u001b[0mndims\u001b[0m\u001b[0;34m\u001b[0m\u001b[0;34m\u001b[0m\u001b[0m\n",
            "\u001b[0;31mValueError\u001b[0m: Input 0 of layer conv2d_11 is incompatible with the layer: expected ndim=4, found ndim=2. Full shape received: [None, 784]"
          ]
        }
      ]
    },
    {
      "cell_type": "code",
      "metadata": {
        "id": "0xmMWD9tKjhu",
        "colab_type": "code",
        "colab": {
          "base_uri": "https://localhost:8080/",
          "height": 234
        },
        "outputId": "c8ab1170-da1b-438d-a6ce-69ccf13e6f97"
      },
      "source": [
        "my_model.add(Conv2D(32, kernel_size=(3,3),strides = (1,1), padding = 'valid', activation= 'relu', input_shape = (784,)))\n",
        "my_model.add(Conv2D(64, kernel_size=(3,3),strides = (1,1), padding = 'valid', activation= 'relu', input_shape = (784,)))\n",
        "my_model.add(MaxPooling2D(pool_size=(2, 2)))\n",
        "my_model.add(Dropout(0.25))\n",
        "my_model.add(Flatten())\n",
        "my_model.add(Dense(128, activation='relu'))\n",
        "my_model.add(Dropout(0.5))\n",
        "\n",
        "my_model.add(Dense(10, activation='softmax'))\n",
        "\n",
        "\n",
        "\n",
        "\n",
        "\n",
        "model = tf.keras.Sequential(layer1, layer2)\n",
        "'''\n",
        "\n",
        "model.add(Conv2D(64, (3, 3), activation='relu'))\n",
        "model.add(MaxPooling2D(pool_size=(2, 2)))\n",
        "model.add(Dropout(0.25))\n",
        "model.add(Flatten())\n",
        "model.add(Dense(128, activation='relu'))\n",
        "model.add(Dropout(0.5))\n",
        "\n",
        "model.add(Dense(num_classes, activation='softmax'))\n",
        "'''"
      ],
      "execution_count": 112,
      "outputs": [
        {
          "output_type": "error",
          "ename": "NameError",
          "evalue": "ignored",
          "traceback": [
            "\u001b[0;31m---------------------------------------------------------------------------\u001b[0m",
            "\u001b[0;31mNameError\u001b[0m                                 Traceback (most recent call last)",
            "\u001b[0;32m<ipython-input-112-0123786afbf7>\u001b[0m in \u001b[0;36m<module>\u001b[0;34m()\u001b[0m\n\u001b[0;32m----> 1\u001b[0;31m \u001b[0mmodel\u001b[0m \u001b[0;34m=\u001b[0m \u001b[0mtf\u001b[0m\u001b[0;34m.\u001b[0m\u001b[0mkeras\u001b[0m\u001b[0;34m.\u001b[0m\u001b[0mSequential\u001b[0m\u001b[0;34m(\u001b[0m\u001b[0mlayer1\u001b[0m\u001b[0;34m,\u001b[0m \u001b[0mlayer2\u001b[0m\u001b[0;34m)\u001b[0m\u001b[0;34m\u001b[0m\u001b[0;34m\u001b[0m\u001b[0m\n\u001b[0m\u001b[1;32m      2\u001b[0m '''\n\u001b[1;32m      3\u001b[0m model.add(Conv2D(32, kernel_size=(3, 3),\n\u001b[1;32m      4\u001b[0m                  \u001b[0mactivation\u001b[0m\u001b[0;34m=\u001b[0m\u001b[0;34m'relu'\u001b[0m\u001b[0;34m,\u001b[0m\u001b[0;34m\u001b[0m\u001b[0;34m\u001b[0m\u001b[0m\n\u001b[1;32m      5\u001b[0m                  input_shape=input_shape))\n",
            "\u001b[0;31mNameError\u001b[0m: name 'layer2' is not defined"
          ]
        }
      ]
    },
    {
      "cell_type": "code",
      "metadata": {
        "id": "AGh2AcIwj1d9",
        "colab_type": "code",
        "colab": {
          "base_uri": "https://localhost:8080/",
          "height": 130
        },
        "outputId": "367949bb-2400-49df-8fe4-5a2fc1ddf167"
      },
      "source": [
        "model = tf.keras.Sequential(\n",
        "    Conv2D(32, kernel_size=(3, 3),activation='relu',input_shape=input_shape)),\n",
        "Conv2D(64, (3, 3), activation='relu'),\n",
        "MaxPooling2D(pool_size=(2, 2)),Dropout(0.25),\n",
        "Flatten(),\n",
        "Dense(128, activation='relu'),Dropout(0.5),\n",
        "Dense(num_classes, activation='softmax'))\n"
      ],
      "execution_count": 102,
      "outputs": [
        {
          "output_type": "error",
          "ename": "SyntaxError",
          "evalue": "ignored",
          "traceback": [
            "\u001b[0;36m  File \u001b[0;32m\"<ipython-input-103-ffd5993c3133>\"\u001b[0;36m, line \u001b[0;32m7\u001b[0m\n\u001b[0;31m    Dense(num_classes, activation='softmax'))\u001b[0m\n\u001b[0m                                            ^\u001b[0m\n\u001b[0;31mSyntaxError\u001b[0m\u001b[0;31m:\u001b[0m invalid syntax\n"
          ]
        }
      ]
    },
    {
      "cell_type": "code",
      "metadata": {
        "id": "dhcKfDiNrsHz",
        "colab_type": "code",
        "colab": {}
      },
      "source": [
        ""
      ],
      "execution_count": 0,
      "outputs": []
    },
    {
      "cell_type": "code",
      "metadata": {
        "id": "6nyHwNPZJscG",
        "colab_type": "code",
        "outputId": "c497e684-7c5f-4065-e293-ae5ac2eb67f4",
        "colab": {
          "base_uri": "https://localhost:8080/",
          "height": 54
        }
      },
      "source": [
        "'''\n",
        "train_batches = ImageDataGenerator().flow_from_directory(directory=train_path, target_size=(224,224),\n",
        "    classes=['dog', 'cat'], batch_size=10)\n",
        "valid_batches = ImageDataGenerator().flow_from_directory(directory=valid_path, target_size=(224,224),\n",
        "    classes=['dog', 'cat'], batch_size=4)\n",
        "test_batches = ImageDataGenerator().flow_from_directory(directory=test_path, target_size=(224,224),\n",
        "    classes=['dog', 'cat'], batch_size=10)\n",
        "    '''"
      ],
      "execution_count": 75,
      "outputs": [
        {
          "output_type": "execute_result",
          "data": {
            "text/plain": [
              "\"\\ntrain_batches = ImageDataGenerator().flow_from_directory(directory=train_path, target_size=(224,224),\\n    classes=['dog', 'cat'], batch_size=10)\\nvalid_batches = ImageDataGenerator().flow_from_directory(directory=valid_path, target_size=(224,224),\\n    classes=['dog', 'cat'], batch_size=4)\\ntest_batches = ImageDataGenerator().flow_from_directory(directory=test_path, target_size=(224,224),\\n    classes=['dog', 'cat'], batch_size=10)\\n    \""
            ]
          },
          "metadata": {
            "tags": []
          },
          "execution_count": 75
        }
      ]
    }
  ]
}