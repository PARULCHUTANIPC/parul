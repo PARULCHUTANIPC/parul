{
  "nbformat": 4,
  "nbformat_minor": 0,
  "metadata": {
    "colab": {
      "name": "fmnist d3",
      "provenance": [],
      "include_colab_link": true
    },
    "kernelspec": {
      "name": "python3",
      "display_name": "Python 3"
    },
    "accelerator": "GPU"
  },
  "cells": [
    {
      "cell_type": "markdown",
      "metadata": {
        "id": "view-in-github",
        "colab_type": "text"
      },
      "source": [
        "<a href=\"https://colab.research.google.com/github/PARULCHUTANIPC/parul/blob/p1/fmnist_d5.ipynb\" target=\"_parent\"><img src=\"https://colab.research.google.com/assets/colab-badge.svg\" alt=\"Open In Colab\"/></a>"
      ]
    },
    {
      "cell_type": "code",
      "metadata": {
        "id": "zO_IsloSZPe5",
        "colab_type": "code",
        "colab": {}
      },
      "source": [
        "import torch\n",
        "import torch.nn as nn\n",
        "import torch.optim as optim\n",
        "import torch.nn.functional as F\n",
        "\n",
        "import torchvision\n",
        "import torchvision.transforms as transforms\n",
        "torch.set_printoptions(linewidth= 120)\n",
        "torch.set_grad_enabled(True)\n",
        "from torch.utils.tensorboard import SummaryWriter"
      ],
      "execution_count": 0,
      "outputs": []
    },
    {
      "cell_type": "code",
      "metadata": {
        "id": "h_i2THEsZbTx",
        "colab_type": "code",
        "colab": {}
      },
      "source": [
        "\n",
        "def get_num_correct(preds, labels):\n",
        "  return preds.argmax(dim=1).eq(labels).sum().item()"
      ],
      "execution_count": 0,
      "outputs": []
    },
    {
      "cell_type": "code",
      "metadata": {
        "id": "-0hc5_D6fZ31",
        "colab_type": "code",
        "colab": {}
      },
      "source": [
        "class Network(nn.Module):\n",
        "    def __init__(self):\n",
        "        super().__init__()\n",
        "        self.conv1 = nn.Conv2d(in_channels=1, out_channels=6, kernel_size=5)\n",
        "        self.conv2 = nn.Conv2d(in_channels=6, out_channels=12, kernel_size=5)\n",
        "        \n",
        "        self.fc1 = nn.Linear(in_features=12 * 4 * 4, out_features=120)\n",
        "        self.fc2 = nn.Linear(in_features=120, out_features=60)\n",
        "        self.out = nn.Linear(in_features=60, out_features=10)\n",
        "        \n",
        "    def forward(self, t):\n",
        "        # implement the forward pass\n",
        "        # 1) Input layer\n",
        "        t=t\n",
        "\n",
        "        # (2) hidden conv layer\n",
        "        t = self.conv1(t)\n",
        "        t = F.relu(t)\n",
        "        t = F.max_pool2d(t, kernel_size=2, stride=2)\n",
        "\n",
        "        # (3) hidden conv layer\n",
        "        t = self.conv2(t)\n",
        "        t = F.relu(t)\n",
        "        t = F.max_pool2d(t, kernel_size=2, stride=2)\n",
        "\n",
        "        # (4) hidden linear layer\n",
        "        t = t.reshape(-1, 12 * 4 * 4)\n",
        "        t = self.fc1(t)\n",
        "        t = F.relu(t)\n",
        "\n",
        "        # (5) hidden linear layer\n",
        "        t = self.fc2(t)\n",
        "        t = F.relu(t)\n",
        "\n",
        "        # 6) Output Layer\n",
        "        t = self.out(t)\n",
        "#t = F.softmax(t, dim=1)\n",
        "\n",
        "        return t"
      ],
      "execution_count": 0,
      "outputs": []
    },
    {
      "cell_type": "code",
      "metadata": {
        "id": "RbR9afE7uPux",
        "colab_type": "code",
        "colab": {}
      },
      "source": [
        ""
      ],
      "execution_count": 0,
      "outputs": []
    },
    {
      "cell_type": "code",
      "metadata": {
        "id": "xYaEs6uifiFz",
        "colab_type": "code",
        "colab": {}
      },
      "source": [
        "train_set = torchvision.datasets.FashionMNIST(\n",
        "    root='./data'\n",
        "    ,train=True\n",
        "    ,download=True\n",
        "    ,transform=transforms.Compose([\n",
        "        transforms.ToTensor()\n",
        "    ])\n",
        ")"
      ],
      "execution_count": 0,
      "outputs": []
    },
    {
      "cell_type": "markdown",
      "metadata": {
        "id": "vlYmxc9MfvOV",
        "colab_type": "text"
      },
      "source": [
        "# TRAINING WITH A SINGLE BATCH"
      ]
    },
    {
      "cell_type": "code",
      "metadata": {
        "id": "wPH-Rmdifs6U",
        "colab_type": "code",
        "colab": {}
      },
      "source": [
        "network = Network()\n",
        "train_loader = torch.utils.data.DataLoader(train_set\n",
        "   ,batch_size=100)\n",
        "optimizer = optim.Adam(network.parameters(),lr = 0.01)\n",
        "# Obtain the batch \n",
        "batch = next(iter(train_loader))\n",
        "images, labels = batch\n",
        "# PASS THE BATCH IN THE NETWORK  --------  network is the name of the class we made..... in which we defined the layers, 1 input, 2 conv, 2 linear and 1 output layer\n",
        "preds = network(images)\n",
        "#CALCULATE LOSS\n",
        "loss = F.cross_entropy(preds, labels)\n",
        "# CALCULATE GRADIENTS\n",
        "loss.backward()\n",
        "# UPDATE WEIGHTS\n",
        "optimizer.step()"
      ],
      "execution_count": 0,
      "outputs": []
    },
    {
      "cell_type": "code",
      "metadata": {
        "id": "-QhPTrHT9PPJ",
        "colab_type": "code",
        "outputId": "676435fd-dd03-415e-d304-1a3fa02ee64d",
        "colab": {
          "base_uri": "https://localhost:8080/",
          "height": 52
        }
      },
      "source": [
        "print ('loss1 : ', loss.item()) # it will give the loss when the images are given to the network  first time\n",
        "# Now, the images are again passed to the network and calculate the loss again and compare\n",
        "preds = network(images)\n",
        "loss = F.cross_entropy(preds, labels)\n",
        "print('loss2 : ', loss.item())"
      ],
      "execution_count": 110,
      "outputs": [
        {
          "output_type": "stream",
          "text": [
            "loss1 :  2.2943737506866455\n",
            "loss2 :  2.2633938789367676\n"
          ],
          "name": "stdout"
        }
      ]
    },
    {
      "cell_type": "markdown",
      "metadata": {
        "id": "l64PwpVbAm7S",
        "colab_type": "text"
      },
      "source": [
        "**# TRAINING WITH ALL BATCHES / ONE EPOCH**"
      ]
    },
    {
      "cell_type": "code",
      "metadata": {
        "id": "MwpzY2pr_xh5",
        "colab_type": "code",
        "colab": {}
      },
      "source": [
        "network = Network()\n",
        "train_loader = torch.utils.data.DataLoader(train_set\n",
        "   ,batch_size=100)\n",
        "optimizer = optim.Adam(network.parameters(),lr = 0.01)\n",
        "# THIS IS THE SAME AS TRAINING A SINGLE BATCH. IN ADDITION TO THAT , WE HAVE TO APPLY A LOOP SO THAT ALL BATCHES CAN PASS THROUGH THE NETWORK TO GET TRAINED\n",
        "#####---------------------------\n",
        "total_loss= 0\n",
        "total_correct = 0\n",
        "# Obtain the batch \n",
        "#batch = next(iter(train_loader))\n",
        "#images, labels = batch\n",
        "# SELECTING ALL BATCHES\n",
        "for batch in train_loader:\n",
        "# PASS THE BATCH IN THE NETWORK  --------  network is the name of the class we made..... in which we defined the layers, 1 input, 2 conv, 2 linear and 1 output layer\n",
        "  preds = network(images)\n",
        "#CALCULATE LOSS\n",
        "  loss = F.cross_entropy(preds, labels)\n",
        "# -------------------- EXTRA LINE ---- SET THE INITIAL GRADIENT ZERO AFTER EVERY ITERATION, OTHERWISE IT WILL ADD UP THE WEIGHT AFTER EVERY STEP WHICH WILL ULTIMATELY RESULT IN BAD ACCURACY, HIGHER LOSS\n",
        "  optimizer.zero_grad()\n",
        "# CALCULATE GRADIENTS\n",
        "  loss.backward()\n",
        "# UPDATE WEIGHTS  \n",
        "  optimizer.step()\n",
        "  ##----------- Now, add the loss calculated  and the correct predictions done for every batches\n",
        "  total_correct+= get_num_correct(preds, labels)\n",
        "  total_loss+= loss.item()"
      ],
      "execution_count": 0,
      "outputs": []
    },
    {
      "cell_type": "code",
      "metadata": {
        "id": "ojs1_WcgBtbG",
        "colab_type": "code",
        "outputId": "fd12bfec-df10-4768-be33-fb8d0b0b0e5b",
        "colab": {
          "base_uri": "https://localhost:8080/",
          "height": 52
        }
      },
      "source": [
        "print(\"epoch : \", 0, \"Correct Predictions : \", total_correct, \"   Total_Loss : \", total_loss)\n",
        "accuracy = total_correct/len(train_set)\n",
        "print (\"Accuracy : \", accuracy)"
      ],
      "execution_count": 112,
      "outputs": [
        {
          "output_type": "stream",
          "text": [
            "epoch :  0 Correct Predictions :  58699    Total_Loss :  34.20452171876968\n",
            "Accuracy :  0.9783166666666666\n"
          ],
          "name": "stdout"
        }
      ]
    },
    {
      "cell_type": "markdown",
      "metadata": {
        "id": "3Ln3uaO_Dl7W",
        "colab_type": "text"
      },
      "source": [
        "# TRAIN THE IMAGES MULTIPLE TIMES / multiple epochs"
      ]
    },
    {
      "cell_type": "code",
      "metadata": {
        "id": "jf4JIRRCC9y7",
        "colab_type": "code",
        "outputId": "8e095bbe-b8d5-46d8-e324-795047fb757b",
        "colab": {
          "base_uri": "https://localhost:8080/",
          "height": 34
        }
      },
      "source": [
        "network = Network()\n",
        "train_loader = torch.utils.data.DataLoader(train_set\n",
        "   ,batch_size=100)\n",
        "optimizer = optim.Adam(network.parameters(),lr = 0.01)\n",
        "# Obtain the batch \n",
        "batch = next(iter(train_loader))\n",
        "images, labels = batch\n",
        "'''\n",
        "################ ADDING THE TENSORBOARD  ########&&&&&&&&&&&&&&&&&&&&&\n",
        "grid = torchvision.utils.make_grid(images)\n",
        "tb= SummaryWriter()\n",
        "tb.add_image('images', grid)\n",
        "tb.add_graph(network, images)\n",
        "'''\n",
        "######################            CREATE A LOOOPPPPPPP ##########################################\n",
        "for epoch in range(3):\n",
        "# THIS IS THE SAME AS TRAINING A SINGLE BATCH. EXCEPT TO THAT , WE HAVE TO APPLY A LOOP SO THAT ALL BATCHES CAN PASS THROUGH THE NETWORK TO GET TRAINED\n",
        "#####---------------------------\n",
        "  total_loss= 0\n",
        "  total_correct = 0\n",
        "# SELECTING ALL BATCHES\n",
        "  for batch in train_loader:\n",
        "# PASS THE BATCH IN THE NETWORK  --------  network is the name of the class we made..... in which we defined the layers, 1 input, 2 conv, 2 linear and 1 output layer\n",
        "    preds = network(images)\n",
        "#CALCULATE LOSS\n",
        "    loss = F.cross_entropy(preds, labels)\n",
        "# -------------------- EXTRA LINE ---- SET THE INITIAL GRADIENT ZERO AFTER EVERY ITERATION, OTHERWISE IT WILL ADD UP THE WEIGHT AFTER EVERY STEP WHICH WILL ULTIMATELY RESULT IN BAD ACCURACY, HIGHER LOSS\n",
        "    optimizer.zero_grad()\n",
        "# CALCULATE GRADIENTS\n",
        "    loss.backward()\n",
        "# UPDATE WEIGHTS  \n",
        "    optimizer.step()\n",
        "  ##----------- Now, add the loss calculated  and the correct predictions done for every batches\n",
        "    total_correct+= get_num_correct(preds, labels)\n",
        "    total_loss+= loss.item()\n",
        "'''\n",
        "###-------------------ADDING THE TENSORBOARD--------------------------------\n",
        "  tb.add_scalar('Loss', total_loss, epoch)\n",
        "  tb.add_scalar('Correct Predictions', total_correct, epoch)\n",
        "  tb.add_scalar('Accuracy', total_correct/len(train_set), epoch)\n",
        "  tb.add_histogram('Conv1.bias', network.conv1.bias, epoch)\n",
        "  tb.add_histogram('Conv1.weight', network.conv1.weight, epoch)\n",
        "  tb.add_histogram('Conv1.weight.grad', network.conv1.weight.grad, epoch)\n",
        "\n",
        "'''\n",
        "print(\"epoch : \", epoch, \"Correct Predictions : \", total_correct, \"   Total_Loss : \", total_loss)\n",
        "#tb.close()"
      ],
      "execution_count": 113,
      "outputs": [
        {
          "output_type": "stream",
          "text": [
            "epoch :  2 Correct Predictions :  60000    Total_Loss :  0.004823391249374254\n"
          ],
          "name": "stdout"
        }
      ]
    },
    {
      "cell_type": "code",
      "metadata": {
        "id": "NYG-ffaVOKFv",
        "colab_type": "code",
        "colab": {
          "base_uri": "https://localhost:8080/",
          "height": 34
        },
        "outputId": "7c4a7649-b022-48c1-9f01-9565fbe3c934"
      },
      "source": [
        "#print(\"epoch : \", epoch, \"Correct Predictions : \", total_correct, \"   Total_Loss : \", total_loss)\n",
        "accuracy = total_correct/len(train_set)\n",
        "print (\"Accuracy : \", accuracy*100,\"%\")"
      ],
      "execution_count": 114,
      "outputs": [
        {
          "output_type": "stream",
          "text": [
            "Accuracy :  100.0 %\n"
          ],
          "name": "stdout"
        }
      ]
    },
    {
      "cell_type": "code",
      "metadata": {
        "id": "C1X4rde-GAVs",
        "colab_type": "code",
        "colab": {
          "base_uri": "https://localhost:8080/",
          "height": 257
        },
        "outputId": "439d3166-a08f-4eb5-b98c-345d4dafdbc5"
      },
      "source": [
        "#plt.(20,20)\n",
        "import matplotlib.pyplot as plt\n",
        "for i in range(55):\n",
        "    plt.subplot(5,11,i+1)\n",
        "    plt.imshow(images[i].squeeze())\n",
        "plt.show()"
      ],
      "execution_count": 115,
      "outputs": [
        {
          "output_type": "display_data",
          "data": {
            "image/png": "[encoded data removed]",
            "text/plain": [
              "<Figure size 432x288 with 55 Axes>"
            ]
          },
          "metadata": {
            "tags": []
          }
        }
      ]
    },
    {
      "cell_type": "markdown",
      "metadata": {
        "id": "511aXw9Nb-xK",
        "colab_type": "text"
      },
      "source": [
        "#ANALYZING CNN RESULTS / CONFUSION MATRIX"
      ]
    },
    {
      "cell_type": "code",
      "metadata": {
        "id": "3jfmSdU4cO64",
        "colab_type": "code",
        "colab": {}
      },
      "source": [
        "import matplotlib.pyplot as plt\n",
        "import seaborn as sns\n",
        "from sklearn.metrics import confusion_matrix\n",
        "import numpy as np\n",
        "#from resources.plotcm import plot_confusion_matrix"
      ],
      "execution_count": 0,
      "outputs": []
    },
    {
      "cell_type": "code",
      "metadata": {
        "id": "sXnBlv1GAT1v",
        "colab_type": "code",
        "colab": {
          "base_uri": "https://localhost:8080/",
          "height": 34
        },
        "outputId": "734fd957-9ced-47e0-8d5d-0925bd76cdc1"
      },
      "source": [
        "# collecting maximum values from a batch\n",
        "#-----------------------------------------------------------\n",
        "try1 = []\n",
        "for u in preds:\n",
        "  try1.append(u.argmax(dim=0).tolist())\n",
        "len(try1)"
      ],
      "execution_count": 116,
      "outputs": [
        {
          "output_type": "execute_result",
          "data": {
            "text/plain": [
              "100"
            ]
          },
          "metadata": {
            "tags": []
          },
          "execution_count": 116
        }
      ]
    },
    {
      "cell_type": "code",
      "metadata": {
        "id": "HjuosJk2L0UG",
        "colab_type": "code",
        "colab": {
          "base_uri": "https://localhost:8080/",
          "height": 34
        },
        "outputId": "85a1bc9d-f429-4853-cede-6a229721e776"
      },
      "source": [
        "# COLLECTING ALL PREDICTED VALUES ------------BATCHWISE\n",
        "try1 = []\n",
        "for batch in train_loader:\n",
        "  for u in preds:\n",
        "    try1.append(u.argmax(dim=0).tolist())\n",
        "len(try1)"
      ],
      "execution_count": 118,
      "outputs": [
        {
          "output_type": "execute_result",
          "data": {
            "text/plain": [
              "60000"
            ]
          },
          "metadata": {
            "tags": []
          },
          "execution_count": 118
        }
      ]
    },
    {
      "cell_type": "code",
      "metadata": {
        "id": "eo9B2A75NAFv",
        "colab_type": "code",
        "colab": {
          "base_uri": "https://localhost:8080/",
          "height": 34
        },
        "outputId": "e6bbd719-e15e-4bdd-aaae-e40c643ee692"
      },
      "source": [
        "# COLLECTING ALL LABELLED VALUES ------------BATCHWISE\n",
        "try2 = []\n",
        "for batch in train_loader:\n",
        "  for uu in labels:\n",
        "    try2.append(uu.tolist())\n",
        "len(try2)"
      ],
      "execution_count": 119,
      "outputs": [
        {
          "output_type": "execute_result",
          "data": {
            "text/plain": [
              "60000"
            ]
          },
          "metadata": {
            "tags": []
          },
          "execution_count": 119
        }
      ]
    },
    {
      "cell_type": "code",
      "metadata": {
        "id": "L1eGoAS-kHoP",
        "colab_type": "code",
        "colab": {
          "base_uri": "https://localhost:8080/",
          "height": 190
        },
        "outputId": "befc89f8-c467-4ba6-fd6e-9d38f17b1396"
      },
      "source": [
        "cm = confusion_matrix(try2, try1)\n",
        "#print(type(cm))\n",
        "#cm.dtype\n",
        "cm"
      ],
      "execution_count": 120,
      "outputs": [
        {
          "output_type": "execute_result",
          "data": {
            "text/plain": [
              "array([[7200,    0,    0,    0,    0,    0,    0,    0,    0,    0],\n",
              "       [   0, 6600,    0,    0,    0,    0,    0,    0,    0,    0],\n",
              "       [   0,    0, 5400,    0,    0,    0,    0,    0,    0,    0],\n",
              "       [   0,    0,    0, 9000,    0,    0,    0,    0,    0,    0],\n",
              "       [   0,    0,    0,    0, 5400,    0,    0,    0,    0,    0],\n",
              "       [   0,    0,    0,    0,    0, 6600,    0,    0,    0,    0],\n",
              "       [   0,    0,    0,    0,    0,    0, 6000,    0,    0,    0],\n",
              "       [   0,    0,    0,    0,    0,    0,    0, 4800,    0,    0],\n",
              "       [   0,    0,    0,    0,    0,    0,    0,    0, 2400,    0],\n",
              "       [   0,    0,    0,    0,    0,    0,    0,    0,    0, 6600]])"
            ]
          },
          "metadata": {
            "tags": []
          },
          "execution_count": 120
        }
      ]
    },
    {
      "cell_type": "code",
      "metadata": {
        "id": "RmNIIb5HkWeC",
        "colab_type": "code",
        "colab": {
          "base_uri": "https://localhost:8080/",
          "height": 286
        },
        "outputId": "95294400-be7e-46b5-ae41-fdd520528b61"
      },
      "source": [
        "sns.heatmap(data = cm)"
      ],
      "execution_count": 121,
      "outputs": [
        {
          "output_type": "execute_result",
          "data": {
            "text/plain": [
              "<matplotlib.axes._subplots.AxesSubplot at 0x7fcb44a39dd8>"
            ]
          },
          "metadata": {
            "tags": []
          },
          "execution_count": 121
        },
        {
          "output_type": "display_data",
          "data": {
            "image/png": "[encoded data removed]",
            "text/plain": [
              "<Figure size 432x288 with 2 Axes>"
            ]
          },
          "metadata": {
            "tags": []
          }
        }
      ]
    },
    {
      "cell_type": "code",
      "metadata": {
        "id": "PDbxyK9Ml2Kp",
        "colab_type": "code",
        "colab": {
          "base_uri": "https://localhost:8080/",
          "height": 613
        },
        "outputId": "5fe2303e-0ff4-4a58-d741-44cc794b0128"
      },
      "source": [
        " names = (\n",
        "    'T-shirt/top'\n",
        "    ,'Trouser'\n",
        "    ,'Pullover'\n",
        "    ,'Dress'\n",
        "    ,'Coat'\n",
        "    ,'Sandal'\n",
        "    ,'Shirt'\n",
        "    ,'Sneaker'\n",
        "    ,'Bag'\n",
        "    ,'Ankle boot'\n",
        ")\n",
        "plt.figure(figsize=(10,10))\n",
        "#plt.plot(data = cm)\n",
        "sns.heatmap(cm, cmap =\"YlGnBu\")\n",
        "#plot_confusion_matrix(datacm, names)"
      ],
      "execution_count": 124,
      "outputs": [
        {
          "output_type": "execute_result",
          "data": {
            "text/plain": [
              "<matplotlib.axes._subplots.AxesSubplot at 0x7fcb402adba8>"
            ]
          },
          "metadata": {
            "tags": []
          },
          "execution_count": 124
        },
        {
          "output_type": "display_data",
          "data": {
            "image/png": "[encoded data removed]",
            "text/plain": [
              "<Figure size 720x720 with 2 Axes>"
            ]
          },
          "metadata": {
            "tags": []
          }
        }
      ]
    },
    {
      "cell_type": "code",
      "metadata": {
        "id": "d7v2WgGbaHxR",
        "colab_type": "code",
        "colab": {}
      },
      "source": [
        "from sklearn.metrics import classification_report"
      ],
      "execution_count": 0,
      "outputs": []
    },
    {
      "cell_type": "code",
      "metadata": {
        "id": "8i4CzLvwfLQv",
        "colab_type": "code",
        "colab": {
          "base_uri": "https://localhost:8080/",
          "height": 312
        },
        "outputId": "97bbb8c3-c003-4197-d3b9-69caea8b3b93"
      },
      "source": [
        "print(classification_report(try1, try2))"
      ],
      "execution_count": 122,
      "outputs": [
        {
          "output_type": "stream",
          "text": [
            "              precision    recall  f1-score   support\n",
            "\n",
            "           0       1.00      1.00      1.00      7200\n",
            "           1       1.00      1.00      1.00      6600\n",
            "           2       1.00      1.00      1.00      5400\n",
            "           3       1.00      1.00      1.00      9000\n",
            "           4       1.00      1.00      1.00      5400\n",
            "           5       1.00      1.00      1.00      6600\n",
            "           6       1.00      1.00      1.00      6000\n",
            "           7       1.00      1.00      1.00      4800\n",
            "           8       1.00      1.00      1.00      2400\n",
            "           9       1.00      1.00      1.00      6600\n",
            "\n",
            "    accuracy                           1.00     60000\n",
            "   macro avg       1.00      1.00      1.00     60000\n",
            "weighted avg       1.00      1.00      1.00     60000\n",
            "\n"
          ],
          "name": "stdout"
        }
      ]
    },
    {
      "cell_type": "code",
      "metadata": {
        "id": "PymKcNxNGmJK",
        "colab_type": "code",
        "colab": {
          "base_uri": "https://localhost:8080/",
          "height": 34
        },
        "outputId": "4eced880-3b22-45cd-96c7-fc540156ef59"
      },
      "source": [
        "from google.colab import drive\n",
        "drive.mount('/content/drive')"
      ],
      "execution_count": 125,
      "outputs": [
        {
          "output_type": "stream",
          "text": [
            "Drive already mounted at /content/drive; to attempt to forcibly remount, call drive.mount(\"/content/drive\", force_remount=True).\n"
          ],
          "name": "stdout"
        }
      ]
    },
    {
      "cell_type": "markdown",
      "metadata": {
        "id": "NQXo7uYmMYKB",
        "colab_type": "text"
      },
      "source": [
        "**WORKING ON TEST DATA**"
      ]
    },
    {
      "cell_type": "code",
      "metadata": {
        "id": "WBtEsPz4IQfu",
        "colab_type": "code",
        "colab": {}
      },
      "source": [
        "train_set = torchvision.datasets.FashionMNIST(\n",
        "    root='./data'\n",
        "    ,train=True\n",
        "    ,download=True\n",
        "    ,transform=transforms.Compose([\n",
        "        transforms.ToTensor()\n",
        "    ])\n",
        ")\n",
        "\n",
        "test_dataset = torchvision.datasets.FashionMNIST(root='./data', train=False,\n",
        "                                       download=True, transform=transforms.Compose([\n",
        "        transforms.ToTensor()\n",
        "    ])\n",
        ")\n",
        "test_loader = torch.utils.data.DataLoader(test_dataset, batch_size=100,\n",
        "                                        shuffle=False)"
      ],
      "execution_count": 0,
      "outputs": []
    },
    {
      "cell_type": "code",
      "metadata": {
        "id": "WejKHjNjIFQl",
        "colab_type": "code",
        "colab": {
          "base_uri": "https://localhost:8080/",
          "height": 148
        },
        "outputId": "9262d818-d5e7-406d-fbcf-5cc2ce563c28"
      },
      "source": [
        "#   help code to load test data\n",
        "'''\n",
        "train_dataset = torchvision.datasets.CIFAR10(root='./data', train=True,\n",
        "                                        download=True, transform=transform)\n",
        "\n",
        "test_dataset = torchvision.datasets.CIFAR10(root='./data', train=False,\n",
        "                                       download=True, transform=transform)\n",
        "\n",
        "train_loader = torch.utils.data.DataLoader(train_dataset, batch_size=batch_size,\n",
        "                                          shuffle=True)\n",
        "\n",
        "test_loader = torch.utils.data.DataLoader(test_dataset, batch_size=batch_size,\n",
        "                                         shuffle=False)"
      ],
      "execution_count": 126,
      "outputs": [
        {
          "output_type": "error",
          "ename": "SyntaxError",
          "evalue": "ignored",
          "traceback": [
            "\u001b[0;36m  File \u001b[0;32m\"<ipython-input-127-3bf2ac355df6>\"\u001b[0;36m, line \u001b[0;32m12\u001b[0m\n\u001b[0;31m    shuffle=False)\u001b[0m\n\u001b[0m                  \n^\u001b[0m\n\u001b[0;31mSyntaxError\u001b[0m\u001b[0;31m:\u001b[0m EOF while scanning triple-quoted string literal\n"
          ]
        }
      ]
    },
    {
      "cell_type": "code",
      "metadata": {
        "id": "m-4SxycPG8Z9",
        "colab_type": "code",
        "colab": {
          "base_uri": "https://localhost:8080/",
          "height": 86
        },
        "outputId": "2cafc2c4-b8a7-43f5-d283-937c0353e2fc"
      },
      "source": [
        "print('Finished Training')\n",
        "PATH = '/content/drive/My Drive/Colab Notebooks/DATASETS/fashion-mnist_test.csv'\n",
        "torch.save(network.state_dict(), PATH)\n",
        "\n",
        "with torch.no_grad():\n",
        "    n_correct = 0\n",
        "    n_samples = 0\n",
        "    n_class_correct = [0 for i in range(10)]\n",
        "    n_class_samples = [0 for i in range(10)]\n",
        "    for images_test, labels_test in test_loader:\n",
        "        #images = images.to(device)\n",
        "        #labels = labels.to(device)\n",
        "        outputs_test = network(images_test)\n",
        "        # max returns (value ,index)\n",
        "        _, predicted = torch.max(outputs_test, 1)\n",
        "        n_samples += labels_test.size(0)\n",
        "        n_correct += (predicted == labels_test).sum().item()\n",
        "'''\n",
        "        for i in range(100):\n",
        "            labels_test = labels_test[i]\n",
        "            pred_test = predicted[i]\n",
        "            if (labels_test == pred_test):\n",
        "                n_class_correct[labels_test] += 1\n",
        "            n_class_samples[labels_test] += 1\n",
        "'''\n",
        "acc = 100.0 * n_correct / n_samples\n",
        "print(f'Accuracy of the network: {acc} %')\n",
        "'''\n",
        "for i in range(10):\n",
        "  acc = 100.0 * n_class_correct[i] / n_class_samples[i]\n",
        "  print(f'Accuracy of {classes[i]}: {acc} %')'''"
      ],
      "execution_count": 130,
      "outputs": [
        {
          "output_type": "stream",
          "text": [
            "Finished Training\n",
            "ERROR! Session/line number was not unique in database. History logging moved to new session 67\n",
            "Accuracy of the network: 9.93 %\n"
          ],
          "name": "stdout"
        },
        {
          "output_type": "execute_result",
          "data": {
            "text/plain": [
              "\"\\nfor i in range(10):\\n  acc = 100.0 * n_class_correct[i] / n_class_samples[i]\\n  print(f'Accuracy of {classes[i]}: {acc} %')\""
            ]
          },
          "metadata": {
            "tags": []
          },
          "execution_count": 130
        }
      ]
    },
    {
      "cell_type": "code",
      "metadata": {
        "id": "ZK3ye6raMsm6",
        "colab_type": "code",
        "colab": {
          "base_uri": "https://localhost:8080/",
          "height": 52
        },
        "outputId": "b5497f0f-588c-478a-daa4-3dc0c6b1b921"
      },
      "source": [
        "print('Finished Training')\n",
        "PATH = '/content/drive/My Drive/Colab Notebooks/DATASETS/fashion-mnist_test.csv'\n",
        "torch.save(network.state_dict(), PATH)\n",
        "\n",
        "with torch.no_grad():\n",
        "  network = Network()\n",
        "  test_loader = torch.utils.data.DataLoader(test_dataset, batch_size=100)\n",
        "  batch_test = next(iter(test_loader))\n",
        "  images_test, labels_test = batch_test\n",
        "\n",
        "  total_loss_test= 0\n",
        "  total_correct_test = 0\n",
        "\n",
        "# SELECTING ALL BATCHES\n",
        "  for batch_test in test_loader:\n",
        "    preds_test = network(images_test)\n",
        "\n",
        "#CALCULATE LOSS\n",
        "    loss_test = F.cross_entropy(preds_test, labels_test)\n",
        "    total_correct_test+= get_num_correct_test(preds_test, labels_test)\n",
        "    total_loss_test+= loss_test.item()\n",
        "\n",
        "  print(\"Correct Predictions in Test Data : \", total_correct_test, \"   Total_Loss : \", total_loss_test)\n"
      ],
      "execution_count": 128,
      "outputs": [
        {
          "output_type": "stream",
          "text": [
            "Finished Training\n",
            "Correct Predictions in Test Data :  700    Total_Loss :  231.5505027770996\n"
          ],
          "name": "stdout"
        }
      ]
    },
    {
      "cell_type": "code",
      "metadata": {
        "id": "t_v57GN9I5XY",
        "colab_type": "code",
        "colab": {
          "base_uri": "https://localhost:8080/",
          "height": 69
        },
        "outputId": "a2433451-0891-406d-f3a2-cb290b42253a"
      },
      "source": [
        "labels_test"
      ],
      "execution_count": 129,
      "outputs": [
        {
          "output_type": "execute_result",
          "data": {
            "text/plain": [
              "tensor([9, 2, 1, 1, 6, 1, 4, 6, 5, 7, 4, 5, 7, 3, 4, 1, 2, 4, 8, 0, 2, 5, 7, 9, 1, 4, 6, 0, 9, 3, 8, 8, 3, 3, 8, 0, 7,\n",
              "        5, 7, 9, 6, 1, 3, 7, 6, 7, 2, 1, 2, 2, 4, 4, 5, 8, 2, 2, 8, 4, 8, 0, 7, 7, 8, 5, 1, 1, 2, 3, 9, 8, 7, 0, 2, 6,\n",
              "        2, 3, 1, 2, 8, 4, 1, 8, 5, 9, 5, 0, 3, 2, 0, 6, 5, 3, 6, 7, 1, 8, 0, 1, 4, 2])"
            ]
          },
          "metadata": {
            "tags": []
          },
          "execution_count": 129
        }
      ]
    },
    {
      "cell_type": "code",
      "metadata": {
        "id": "vGBTc3MJ9fnJ",
        "colab_type": "code",
        "colab": {}
      },
      "source": [
        "def get_num_correct_test(preds_test, labels_test):\n",
        "  return preds_test.argmax(dim=1).eq(labels_test).sum().item()"
      ],
      "execution_count": 0,
      "outputs": []
    },
    {
      "cell_type": "code",
      "metadata": {
        "id": "QcFGHQoP1Slm",
        "colab_type": "code",
        "colab": {}
      },
      "source": [
        "total_correct_test+= get_num_correct(preds_test, labels_test)\n",
        "total_loss_test+= loss_test.item()"
      ],
      "execution_count": 0,
      "outputs": []
    },
    {
      "cell_type": "code",
      "metadata": {
        "id": "p3Th1beQ2tVD",
        "colab_type": "code",
        "colab": {}
      },
      "source": [
        "print(\"Correct Predictions : \", total_correct_test, \"   Total_Loss : \", total_loss_test)\n",
        "accuracy_test = total_correct_test/len(test_dataset)\n",
        "print (\"Accuracy : \", accuracy_test)"
      ],
      "execution_count": 0,
      "outputs": []
    },
    {
      "cell_type": "code",
      "metadata": {
        "id": "ij5UJlNs9KR3",
        "colab_type": "code",
        "colab": {}
      },
      "source": [
        ""
      ],
      "execution_count": 0,
      "outputs": []
    },
    {
      "cell_type": "code",
      "metadata": {
        "id": "TTTI1_cDH0Pj",
        "colab_type": "code",
        "colab": {}
      },
      "source": [
        "# COLLECTING ALL LABELLED VALUES of test data ------------BATCHWISE\n",
        "try4 = []\n",
        "for batch in test_loader:\n",
        "  for uu in labels_test:\n",
        "    try4.append(uu.tolist())\n",
        "len(try4)"
      ],
      "execution_count": 0,
      "outputs": []
    },
    {
      "cell_type": "code",
      "metadata": {
        "id": "VUh_pbe9LszF",
        "colab_type": "code",
        "colab": {}
      },
      "source": [
        "# COLLECTING ALL predicted VALUES of test data ------------BATCHWISE\n",
        "try3 = []\n",
        "for batch in test_loader:\n",
        "  for u in predicted:\n",
        "    try3.append(u.argmax(dim=0).tolist())\n",
        "len(try3)"
      ],
      "execution_count": 0,
      "outputs": []
    },
    {
      "cell_type": "code",
      "metadata": {
        "id": "dsPeolNtL75z",
        "colab_type": "code",
        "colab": {}
      },
      "source": [
        "cm_test = confusion_matrix(try4, try3)"
      ],
      "execution_count": 0,
      "outputs": []
    },
    {
      "cell_type": "code",
      "metadata": {
        "id": "Nmdqey0gAMS4",
        "colab_type": "code",
        "colab": {}
      },
      "source": [
        "cm_test"
      ],
      "execution_count": 0,
      "outputs": []
    },
    {
      "cell_type": "code",
      "metadata": {
        "id": "MmUFHK3hMJTh",
        "colab_type": "code",
        "colab": {}
      },
      "source": [
        "print(classification_report(try3, try4))"
      ],
      "execution_count": 0,
      "outputs": []
    }
  ]
}